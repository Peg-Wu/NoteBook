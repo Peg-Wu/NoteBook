{
 "cells": [
  {
   "cell_type": "markdown",
   "id": "e85d8c32-eefb-47d7-ad26-8fc775789379",
   "metadata": {},
   "source": [
    "## 1. 打印特定层的输出\n",
    "\n",
    "---\n",
    "\n",
    "### 要使用钩子来获取特定层的输出，我们需要执行以下步骤：\n",
    "\n",
    "- 创建一个模型实例。\n",
    "- 定义一个回调函数来获取我们感兴趣的层输出。\n",
    "- 注册钩子到我们感兴趣的层。\n",
    "- 运行模型并获取特定层的输出。"
   ]
  },
  {
   "cell_type": "code",
   "execution_count": 1,
   "id": "03b1faeb-daef-4f8e-a19d-848520344ea3",
   "metadata": {},
   "outputs": [],
   "source": [
    "# 导入所需的库\n",
    "import torch\n",
    "import torch.nn as nn\n",
    "import torch.nn.functional as F"
   ]
  },
  {
   "cell_type": "code",
   "execution_count": 2,
   "id": "650320f8-b5d2-4355-9f64-1d5eae8ca520",
   "metadata": {},
   "outputs": [],
   "source": [
    "# 创建模型实例\n",
    "class Net(nn.Module):\n",
    "    def __init__(self):\n",
    "        super().__init__()\n",
    "        self.dense = nn.Sequential(nn.Linear(128, 64), nn.BatchNorm1d(64), nn.ReLU(),\n",
    "                                   nn.Linear(64, 32), nn.BatchNorm1d(32), nn.ReLU(),\n",
    "                                   nn.Linear(32, 16), nn.BatchNorm1d(16), nn.ReLU(),\n",
    "                                   nn.Linear(16, 2))\n",
    "    \n",
    "    def forward(self, x):\n",
    "        return self.dense(x)\n",
    "    \n",
    "model = Net()"
   ]
  },
  {
   "cell_type": "code",
   "execution_count": 3,
   "id": "c31d1cb7-f0e2-43d1-8212-01a1c9d8c646",
   "metadata": {},
   "outputs": [
    {
     "name": "stdout",
     "output_type": "stream",
     "text": [
      "[tensor([[-4.5776e-05,  3.8147e-05,  2.0981e-05,  ...,  4.9591e-05,\n",
      "         -3.0518e-05, -2.2888e-04],\n",
      "        [-4.5776e-05,  3.8147e-05,  2.0981e-05,  ...,  4.9591e-05,\n",
      "         -3.0518e-05, -2.2888e-04],\n",
      "        [-4.5776e-05,  3.8147e-05,  2.0981e-05,  ...,  4.9591e-05,\n",
      "         -3.0518e-05, -2.2888e-04],\n",
      "        ...,\n",
      "        [-4.5776e-05,  3.8147e-05,  2.0981e-05,  ...,  4.9591e-05,\n",
      "         -3.0518e-05, -2.2888e-04],\n",
      "        [-4.5776e-05,  3.8147e-05,  2.0981e-05,  ...,  4.9591e-05,\n",
      "         -3.0518e-05, -2.2888e-04],\n",
      "        [-6.1035e-05,  4.1962e-05,  2.8610e-05,  ...,  5.3406e-05,\n",
      "          1.4496e-04, -2.8992e-04]])]\n"
     ]
    }
   ],
   "source": [
    "# 定义一个空列表来保存我们感兴趣层的输出\n",
    "layer_outputs = []\n",
    "\n",
    "# 定义一个回调函数，用于获取我们感兴趣的层的输出\n",
    "def hook(module, input, output):\n",
    "    layer_outputs.append(output.clone().detach())\n",
    "\n",
    "\n",
    "# 注册钩子到我们感兴趣的层\n",
    "handle = model.dense[1].register_forward_hook(hook)\n",
    "\n",
    "# 创建随机输入 (1000 samples , 128 features)\n",
    "input = torch.ones(1000, 128)\n",
    "\n",
    "# 运行模型并获取特定层的输出\n",
    "output = model(input)\n",
    "\n",
    "# 移除钩子\n",
    "handle.remove()\n",
    "\n",
    "# 打印特定层的输出\n",
    "print(layer_outputs)"
   ]
  },
  {
   "cell_type": "markdown",
   "id": "8cb0f068-278e-46cc-ab7a-e54ff4e4a176",
   "metadata": {},
   "source": [
    "## 2. 打印所有层的梯度\n",
    "\n",
    "---\n"
   ]
  },
  {
   "cell_type": "code",
   "execution_count": 4,
   "id": "6b114511-8f75-44fc-aef6-7e4eebbb4008",
   "metadata": {},
   "outputs": [
    {
     "data": {
      "text/plain": [
       "{'dense.0.weight': None,\n",
       " 'dense.0.bias': None,\n",
       " 'dense.1.weight': None,\n",
       " 'dense.1.bias': None,\n",
       " 'dense.3.weight': None,\n",
       " 'dense.3.bias': None,\n",
       " 'dense.4.weight': None,\n",
       " 'dense.4.bias': None,\n",
       " 'dense.6.weight': None,\n",
       " 'dense.6.bias': None,\n",
       " 'dense.7.weight': None,\n",
       " 'dense.7.bias': None,\n",
       " 'dense.9.weight': None,\n",
       " 'dense.9.bias': None}"
      ]
     },
     "execution_count": 4,
     "metadata": {},
     "output_type": "execute_result"
    }
   ],
   "source": [
    "result = {}\n",
    "for name, param in model.named_parameters():\n",
    "    result[name] = param.grad\n",
    "result"
   ]
  },
  {
   "cell_type": "code",
   "execution_count": null,
   "id": "a30ca258-874f-45d3-8280-17c9057dbcce",
   "metadata": {},
   "outputs": [],
   "source": []
  }
 ],
 "metadata": {
  "kernelspec": {
   "display_name": "Python 3 (ipykernel)",
   "language": "python",
   "name": "python3"
  },
  "language_info": {
   "codemirror_mode": {
    "name": "ipython",
    "version": 3
   },
   "file_extension": ".py",
   "mimetype": "text/x-python",
   "name": "python",
   "nbconvert_exporter": "python",
   "pygments_lexer": "ipython3",
   "version": "3.9.12"
  }
 },
 "nbformat": 4,
 "nbformat_minor": 5
}
