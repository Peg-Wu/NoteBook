{
 "cells": [
  {
   "cell_type": "code",
   "execution_count": 1,
   "outputs": [],
   "source": [
    "import collections\n",
    "import math\n",
    "import os\n",
    "import shutil\n",
    "import pandas as pd\n",
    "import torch\n",
    "import torchvision\n",
    "from torch import nn\n",
    "from torch.utils.data import Dataset, DataLoader\n",
    "from d2l import torch as d2l\n",
    "from PIL import Image"
   ],
   "metadata": {
    "collapsed": false,
    "pycharm": {
     "name": "#%%\n"
    }
   }
  },
  {
   "cell_type": "code",
   "execution_count": 2,
   "outputs": [],
   "source": [
    "d2l.DATA_HUB['cifar10_tiny'] = (d2l.DATA_URL + 'kaggle_cifar10_tiny.zip',\n",
    "                                '2068874e4b9a9f0fb07ebe0ad2b29754449ccacd')\n",
    "\n",
    "# 如果使用完整的Kaggle竞赛的数据集，设置demo为False\n",
    "demo = True\n",
    "\n",
    "if demo:\n",
    "    data_dir = d2l.download_extract('cifar10_tiny')\n",
    "else:\n",
    "    data_dir = '../data/cifar-10/'"
   ],
   "metadata": {
    "collapsed": false,
    "pycharm": {
     "name": "#%%\n"
    }
   }
  },
  {
   "cell_type": "code",
   "execution_count": 3,
   "outputs": [
    {
     "name": "stdout",
     "output_type": "stream",
     "text": [
      "# 训练样本 : 1000\n",
      "# 类别 : 10\n",
      "{'1': 'frog', '2': 'truck', '3': 'truck', '4': 'deer', '5': 'automobile', '6': 'automobile', '7': 'bird', '8': 'horse', '9': 'ship', '10': 'cat', '11': 'deer', '12': 'horse', '13': 'horse', '14': 'bird', '15': 'truck', '16': 'truck', '17': 'truck', '18': 'cat', '19': 'bird', '20': 'frog', '21': 'deer', '22': 'cat', '23': 'frog', '24': 'frog', '25': 'bird', '26': 'frog', '27': 'cat', '28': 'dog', '29': 'deer', '30': 'airplane', '31': 'airplane', '32': 'truck', '33': 'automobile', '34': 'cat', '35': 'deer', '36': 'airplane', '37': 'cat', '38': 'horse', '39': 'cat', '40': 'cat', '41': 'dog', '42': 'bird', '43': 'bird', '44': 'horse', '45': 'automobile', '46': 'automobile', '47': 'automobile', '48': 'bird', '49': 'bird', '50': 'airplane', '51': 'truck', '52': 'dog', '53': 'horse', '54': 'truck', '55': 'bird', '56': 'bird', '57': 'dog', '58': 'bird', '59': 'deer', '60': 'cat', '61': 'automobile', '62': 'automobile', '63': 'ship', '64': 'bird', '65': 'automobile', '66': 'automobile', '67': 'deer', '68': 'truck', '69': 'horse', '70': 'ship', '71': 'dog', '72': 'truck', '73': 'frog', '74': 'horse', '75': 'cat', '76': 'automobile', '77': 'truck', '78': 'airplane', '79': 'cat', '80': 'automobile', '81': 'cat', '82': 'dog', '83': 'deer', '84': 'dog', '85': 'horse', '86': 'horse', '87': 'deer', '88': 'horse', '89': 'truck', '90': 'deer', '91': 'bird', '92': 'cat', '93': 'ship', '94': 'airplane', '95': 'automobile', '96': 'frog', '97': 'automobile', '98': 'automobile', '99': 'deer', '100': 'automobile', '101': 'ship', '102': 'cat', '103': 'truck', '104': 'frog', '105': 'frog', '106': 'automobile', '107': 'ship', '108': 'dog', '109': 'bird', '110': 'truck', '111': 'truck', '112': 'ship', '113': 'automobile', '114': 'horse', '115': 'horse', '116': 'airplane', '117': 'airplane', '118': 'frog', '119': 'truck', '120': 'automobile', '121': 'bird', '122': 'bird', '123': 'truck', '124': 'bird', '125': 'frog', '126': 'frog', '127': 'automobile', '128': 'truck', '129': 'dog', '130': 'airplane', '131': 'deer', '132': 'horse', '133': 'frog', '134': 'horse', '135': 'automobile', '136': 'ship', '137': 'automobile', '138': 'automobile', '139': 'bird', '140': 'ship', '141': 'automobile', '142': 'cat', '143': 'cat', '144': 'frog', '145': 'bird', '146': 'deer', '147': 'truck', '148': 'truck', '149': 'dog', '150': 'deer', '151': 'cat', '152': 'frog', '153': 'horse', '154': 'deer', '155': 'frog', '156': 'ship', '157': 'dog', '158': 'dog', '159': 'deer', '160': 'cat', '161': 'automobile', '162': 'ship', '163': 'deer', '164': 'horse', '165': 'frog', '166': 'airplane', '167': 'truck', '168': 'dog', '169': 'automobile', '170': 'cat', '171': 'ship', '172': 'bird', '173': 'horse', '174': 'dog', '175': 'cat', '176': 'deer', '177': 'automobile', '178': 'dog', '179': 'horse', '180': 'airplane', '181': 'deer', '182': 'horse', '183': 'dog', '184': 'dog', '185': 'automobile', '186': 'airplane', '187': 'truck', '188': 'frog', '189': 'truck', '190': 'airplane', '191': 'ship', '192': 'horse', '193': 'ship', '194': 'ship', '195': 'bird', '196': 'dog', '197': 'bird', '198': 'cat', '199': 'dog', '200': 'airplane', '201': 'frog', '202': 'automobile', '203': 'truck', '204': 'cat', '205': 'frog', '206': 'truck', '207': 'automobile', '208': 'cat', '209': 'truck', '210': 'frog', '211': 'frog', '212': 'horse', '213': 'automobile', '214': 'airplane', '215': 'truck', '216': 'dog', '217': 'ship', '218': 'dog', '219': 'bird', '220': 'truck', '221': 'airplane', '222': 'ship', '223': 'ship', '224': 'airplane', '225': 'frog', '226': 'truck', '227': 'automobile', '228': 'automobile', '229': 'frog', '230': 'cat', '231': 'horse', '232': 'frog', '233': 'frog', '234': 'airplane', '235': 'frog', '236': 'frog', '237': 'automobile', '238': 'horse', '239': 'automobile', '240': 'dog', '241': 'ship', '242': 'cat', '243': 'frog', '244': 'frog', '245': 'ship', '246': 'frog', '247': 'ship', '248': 'deer', '249': 'frog', '250': 'frog', '251': 'automobile', '252': 'cat', '253': 'ship', '254': 'cat', '255': 'deer', '256': 'automobile', '257': 'horse', '258': 'automobile', '259': 'cat', '260': 'ship', '261': 'dog', '262': 'automobile', '263': 'automobile', '264': 'deer', '265': 'airplane', '266': 'truck', '267': 'cat', '268': 'horse', '269': 'deer', '270': 'truck', '271': 'truck', '272': 'bird', '273': 'deer', '274': 'truck', '275': 'truck', '276': 'automobile', '277': 'airplane', '278': 'dog', '279': 'truck', '280': 'airplane', '281': 'ship', '282': 'bird', '283': 'automobile', '284': 'bird', '285': 'airplane', '286': 'dog', '287': 'frog', '288': 'cat', '289': 'bird', '290': 'horse', '291': 'ship', '292': 'ship', '293': 'frog', '294': 'airplane', '295': 'horse', '296': 'truck', '297': 'deer', '298': 'dog', '299': 'frog', '300': 'deer', '301': 'bird', '302': 'automobile', '303': 'automobile', '304': 'bird', '305': 'automobile', '306': 'dog', '307': 'truck', '308': 'truck', '309': 'airplane', '310': 'ship', '311': 'deer', '312': 'automobile', '313': 'automobile', '314': 'frog', '315': 'cat', '316': 'cat', '317': 'truck', '318': 'airplane', '319': 'horse', '320': 'truck', '321': 'horse', '322': 'horse', '323': 'truck', '324': 'automobile', '325': 'dog', '326': 'automobile', '327': 'frog', '328': 'frog', '329': 'ship', '330': 'horse', '331': 'automobile', '332': 'cat', '333': 'airplane', '334': 'cat', '335': 'cat', '336': 'bird', '337': 'deer', '338': 'dog', '339': 'horse', '340': 'dog', '341': 'truck', '342': 'airplane', '343': 'cat', '344': 'deer', '345': 'airplane', '346': 'deer', '347': 'deer', '348': 'frog', '349': 'airplane', '350': 'airplane', '351': 'frog', '352': 'frog', '353': 'airplane', '354': 'ship', '355': 'automobile', '356': 'frog', '357': 'bird', '358': 'truck', '359': 'bird', '360': 'dog', '361': 'truck', '362': 'frog', '363': 'horse', '364': 'deer', '365': 'automobile', '366': 'ship', '367': 'horse', '368': 'cat', '369': 'frog', '370': 'truck', '371': 'cat', '372': 'airplane', '373': 'deer', '374': 'airplane', '375': 'dog', '376': 'automobile', '377': 'airplane', '378': 'cat', '379': 'deer', '380': 'ship', '381': 'dog', '382': 'deer', '383': 'horse', '384': 'bird', '385': 'cat', '386': 'truck', '387': 'horse', '388': 'frog', '389': 'horse', '390': 'automobile', '391': 'deer', '392': 'horse', '393': 'airplane', '394': 'automobile', '395': 'horse', '396': 'cat', '397': 'automobile', '398': 'ship', '399': 'deer', '400': 'deer', '401': 'bird', '402': 'airplane', '403': 'bird', '404': 'bird', '405': 'airplane', '406': 'airplane', '407': 'truck', '408': 'airplane', '409': 'truck', '410': 'frog', '411': 'ship', '412': 'bird', '413': 'horse', '414': 'horse', '415': 'deer', '416': 'airplane', '417': 'cat', '418': 'airplane', '419': 'ship', '420': 'truck', '421': 'deer', '422': 'bird', '423': 'horse', '424': 'bird', '425': 'dog', '426': 'bird', '427': 'dog', '428': 'automobile', '429': 'truck', '430': 'deer', '431': 'ship', '432': 'dog', '433': 'automobile', '434': 'horse', '435': 'deer', '436': 'deer', '437': 'airplane', '438': 'frog', '439': 'truck', '440': 'airplane', '441': 'horse', '442': 'ship', '443': 'ship', '444': 'truck', '445': 'truck', '446': 'cat', '447': 'cat', '448': 'deer', '449': 'airplane', '450': 'deer', '451': 'dog', '452': 'frog', '453': 'frog', '454': 'airplane', '455': 'automobile', '456': 'airplane', '457': 'ship', '458': 'airplane', '459': 'deer', '460': 'ship', '461': 'ship', '462': 'automobile', '463': 'dog', '464': 'bird', '465': 'frog', '466': 'ship', '467': 'automobile', '468': 'airplane', '469': 'airplane', '470': 'horse', '471': 'horse', '472': 'dog', '473': 'truck', '474': 'frog', '475': 'bird', '476': 'ship', '477': 'cat', '478': 'deer', '479': 'horse', '480': 'cat', '481': 'truck', '482': 'airplane', '483': 'automobile', '484': 'bird', '485': 'deer', '486': 'ship', '487': 'automobile', '488': 'ship', '489': 'frog', '490': 'deer', '491': 'deer', '492': 'dog', '493': 'horse', '494': 'automobile', '495': 'cat', '496': 'truck', '497': 'ship', '498': 'airplane', '499': 'automobile', '500': 'horse', '501': 'dog', '502': 'ship', '503': 'bird', '504': 'ship', '505': 'airplane', '506': 'deer', '507': 'automobile', '508': 'ship', '509': 'truck', '510': 'ship', '511': 'bird', '512': 'truck', '513': 'truck', '514': 'bird', '515': 'horse', '516': 'dog', '517': 'horse', '518': 'cat', '519': 'ship', '520': 'ship', '521': 'deer', '522': 'deer', '523': 'bird', '524': 'horse', '525': 'automobile', '526': 'frog', '527': 'deer', '528': 'airplane', '529': 'deer', '530': 'frog', '531': 'truck', '532': 'horse', '533': 'frog', '534': 'bird', '535': 'dog', '536': 'dog', '537': 'automobile', '538': 'horse', '539': 'bird', '540': 'bird', '541': 'bird', '542': 'truck', '543': 'dog', '544': 'deer', '545': 'bird', '546': 'horse', '547': 'ship', '548': 'automobile', '549': 'cat', '550': 'deer', '551': 'cat', '552': 'horse', '553': 'frog', '554': 'truck', '555': 'ship', '556': 'airplane', '557': 'frog', '558': 'airplane', '559': 'bird', '560': 'bird', '561': 'bird', '562': 'automobile', '563': 'ship', '564': 'deer', '565': 'airplane', '566': 'automobile', '567': 'ship', '568': 'ship', '569': 'automobile', '570': 'dog', '571': 'horse', '572': 'frog', '573': 'deer', '574': 'dog', '575': 'ship', '576': 'horse', '577': 'automobile', '578': 'truck', '579': 'automobile', '580': 'truck', '581': 'ship', '582': 'deer', '583': 'horse', '584': 'cat', '585': 'ship', '586': 'ship', '587': 'bird', '588': 'frog', '589': 'frog', '590': 'horse', '591': 'automobile', '592': 'frog', '593': 'ship', '594': 'automobile', '595': 'truck', '596': 'horse', '597': 'ship', '598': 'cat', '599': 'airplane', '600': 'automobile', '601': 'airplane', '602': 'ship', '603': 'ship', '604': 'cat', '605': 'airplane', '606': 'airplane', '607': 'automobile', '608': 'dog', '609': 'airplane', '610': 'ship', '611': 'ship', '612': 'horse', '613': 'truck', '614': 'truck', '615': 'airplane', '616': 'truck', '617': 'deer', '618': 'automobile', '619': 'cat', '620': 'frog', '621': 'frog', '622': 'deer', '623': 'deer', '624': 'horse', '625': 'dog', '626': 'frog', '627': 'airplane', '628': 'ship', '629': 'airplane', '630': 'cat', '631': 'bird', '632': 'ship', '633': 'deer', '634': 'frog', '635': 'truck', '636': 'truck', '637': 'horse', '638': 'airplane', '639': 'cat', '640': 'cat', '641': 'frog', '642': 'horse', '643': 'deer', '644': 'truck', '645': 'automobile', '646': 'frog', '647': 'bird', '648': 'horse', '649': 'bird', '650': 'bird', '651': 'airplane', '652': 'frog', '653': 'horse', '654': 'dog', '655': 'horse', '656': 'frog', '657': 'ship', '658': 'truck', '659': 'airplane', '660': 'truck', '661': 'deer', '662': 'deer', '663': 'horse', '664': 'airplane', '665': 'truck', '666': 'deer', '667': 'truck', '668': 'frog', '669': 'truck', '670': 'deer', '671': 'dog', '672': 'horse', '673': 'truck', '674': 'bird', '675': 'deer', '676': 'dog', '677': 'automobile', '678': 'deer', '679': 'cat', '680': 'truck', '681': 'frog', '682': 'dog', '683': 'frog', '684': 'truck', '685': 'cat', '686': 'cat', '687': 'dog', '688': 'airplane', '689': 'horse', '690': 'bird', '691': 'automobile', '692': 'cat', '693': 'frog', '694': 'deer', '695': 'airplane', '696': 'airplane', '697': 'bird', '698': 'dog', '699': 'airplane', '700': 'automobile', '701': 'airplane', '702': 'bird', '703': 'cat', '704': 'truck', '705': 'ship', '706': 'deer', '707': 'truck', '708': 'ship', '709': 'airplane', '710': 'bird', '711': 'frog', '712': 'deer', '713': 'deer', '714': 'airplane', '715': 'automobile', '716': 'ship', '717': 'ship', '718': 'cat', '719': 'frog', '720': 'truck', '721': 'frog', '722': 'frog', '723': 'horse', '724': 'ship', '725': 'bird', '726': 'deer', '727': 'dog', '728': 'horse', '729': 'frog', '730': 'dog', '731': 'cat', '732': 'airplane', '733': 'dog', '734': 'airplane', '735': 'dog', '736': 'airplane', '737': 'ship', '738': 'bird', '739': 'frog', '740': 'horse', '741': 'cat', '742': 'ship', '743': 'bird', '744': 'automobile', '745': 'horse', '746': 'frog', '747': 'horse', '748': 'automobile', '749': 'airplane', '750': 'truck', '751': 'dog', '752': 'dog', '753': 'airplane', '754': 'automobile', '755': 'horse', '756': 'frog', '757': 'truck', '758': 'airplane', '759': 'deer', '760': 'horse', '761': 'horse', '762': 'automobile', '763': 'dog', '764': 'truck', '765': 'deer', '766': 'airplane', '767': 'ship', '768': 'dog', '769': 'truck', '770': 'truck', '771': 'frog', '772': 'horse', '773': 'automobile', '774': 'ship', '775': 'cat', '776': 'bird', '777': 'cat', '778': 'ship', '779': 'bird', '780': 'bird', '781': 'deer', '782': 'frog', '783': 'airplane', '784': 'airplane', '785': 'dog', '786': 'cat', '787': 'ship', '788': 'bird', '789': 'cat', '790': 'horse', '791': 'bird', '792': 'truck', '793': 'cat', '794': 'ship', '795': 'horse', '796': 'ship', '797': 'bird', '798': 'horse', '799': 'truck', '800': 'airplane', '801': 'bird', '802': 'cat', '803': 'bird', '804': 'bird', '805': 'bird', '806': 'cat', '807': 'cat', '808': 'frog', '809': 'bird', '810': 'cat', '811': 'bird', '812': 'ship', '813': 'airplane', '814': 'dog', '815': 'dog', '816': 'automobile', '817': 'deer', '818': 'dog', '819': 'frog', '820': 'frog', '821': 'bird', '822': 'horse', '823': 'airplane', '824': 'automobile', '825': 'horse', '826': 'horse', '827': 'ship', '828': 'bird', '829': 'truck', '830': 'bird', '831': 'bird', '832': 'deer', '833': 'bird', '834': 'automobile', '835': 'automobile', '836': 'automobile', '837': 'frog', '838': 'frog', '839': 'frog', '840': 'dog', '841': 'automobile', '842': 'automobile', '843': 'horse', '844': 'airplane', '845': 'deer', '846': 'cat', '847': 'cat', '848': 'horse', '849': 'automobile', '850': 'bird', '851': 'cat', '852': 'dog', '853': 'dog', '854': 'dog', '855': 'frog', '856': 'automobile', '857': 'deer', '858': 'cat', '859': 'horse', '860': 'ship', '861': 'ship', '862': 'cat', '863': 'frog', '864': 'frog', '865': 'bird', '866': 'cat', '867': 'airplane', '868': 'truck', '869': 'deer', '870': 'cat', '871': 'ship', '872': 'airplane', '873': 'airplane', '874': 'automobile', '875': 'automobile', '876': 'dog', '877': 'deer', '878': 'truck', '879': 'cat', '880': 'automobile', '881': 'ship', '882': 'truck', '883': 'cat', '884': 'truck', '885': 'truck', '886': 'bird', '887': 'truck', '888': 'deer', '889': 'ship', '890': 'bird', '891': 'truck', '892': 'ship', '893': 'ship', '894': 'automobile', '895': 'dog', '896': 'cat', '897': 'frog', '898': 'ship', '899': 'horse', '900': 'frog', '901': 'truck', '902': 'ship', '903': 'airplane', '904': 'frog', '905': 'deer', '906': 'airplane', '907': 'airplane', '908': 'bird', '909': 'dog', '910': 'ship', '911': 'bird', '912': 'airplane', '913': 'bird', '914': 'horse', '915': 'frog', '916': 'truck', '917': 'horse', '918': 'automobile', '919': 'dog', '920': 'dog', '921': 'frog', '922': 'frog', '923': 'cat', '924': 'frog', '925': 'bird', '926': 'deer', '927': 'horse', '928': 'airplane', '929': 'dog', '930': 'frog', '931': 'deer', '932': 'frog', '933': 'dog', '934': 'bird', '935': 'deer', '936': 'frog', '937': 'automobile', '938': 'frog', '939': 'airplane', '940': 'deer', '941': 'airplane', '942': 'cat', '943': 'automobile', '944': 'ship', '945': 'dog', '946': 'deer', '947': 'deer', '948': 'automobile', '949': 'horse', '950': 'cat', '951': 'truck', '952': 'deer', '953': 'horse', '954': 'truck', '955': 'horse', '956': 'cat', '957': 'horse', '958': 'bird', '959': 'ship', '960': 'deer', '961': 'frog', '962': 'frog', '963': 'automobile', '964': 'bird', '965': 'truck', '966': 'airplane', '967': 'deer', '968': 'ship', '969': 'horse', '970': 'cat', '971': 'truck', '972': 'ship', '973': 'horse', '974': 'horse', '975': 'airplane', '976': 'bird', '977': 'deer', '978': 'automobile', '979': 'automobile', '980': 'deer', '981': 'automobile', '982': 'dog', '983': 'deer', '984': 'airplane', '985': 'dog', '986': 'frog', '987': 'bird', '988': 'ship', '989': 'dog', '990': 'airplane', '991': 'bird', '992': 'automobile', '993': 'cat', '994': 'dog', '995': 'horse', '996': 'cat', '997': 'dog', '998': 'automobile', '999': 'cat', '1000': 'dog'}\n"
     ]
    }
   ],
   "source": [
    "def read_csv_labels(fname):\n",
    "    \"\"\"读取fname来给标签字典返回一个文件名\"\"\"\n",
    "    with open(fname, 'r') as f:\n",
    "        # 跳过文件头行(列名)\n",
    "        lines = f.readlines()[1:]  # readlines()返回一个字符串列表\n",
    "    # strip()用于整理字符串，删除开头和结尾的空格和换行符\n",
    "    # split()也会返回一个切分后的字符串列表\n",
    "    tokens = [l.rstrip().split(',') for l in lines]\n",
    "    return dict(((name, label) for name, label in tokens))\n",
    "\n",
    "labels = read_csv_labels(os.path.join(data_dir, 'trainLabels.csv'))\n",
    "print('# 训练样本 :', len(labels))\n",
    "print('# 类别 :', len(set(labels.values())))\n",
    "print(labels)"
   ],
   "metadata": {
    "collapsed": false,
    "pycharm": {
     "name": "#%%\n"
    }
   }
  },
  {
   "cell_type": "code",
   "execution_count": 4,
   "outputs": [
    {
     "data": {
      "text/plain": "\"\\n# 构建Dataset (第一种方法)\\nclass_name = list(set(labels.values()))\\nclass2idx = dict([(each, i) for i, each in enumerate(class_name)])\\n\\nclass MyDataset(Dataset):\\n    def __init__(self, img2label, class2idx, root_dir, img_dir):\\n        self.img2label = img2label\\n        self.class2idx = class2idx\\n        self.root_dir = root_dir\\n        self.img_dir = img_dir\\n        self.img_path = os.path.join(self.root_dir, self.img_dir)\\n        self.img_name = os.listdir(self.img_path)\\n\\n    def __getitem__(self, idx):\\n        img = Image.open(os.path.join(self.img_path, self.img_name[idx]))\\n        pic_idx = self.img_name[idx].strip().split('.')[0]\\n        label = self.class2idx[self.img2label[pic_idx]]\\n        return img, label\\n\\n    def __len__(self):\\n        return len(self.img_name)\\n\\nroot_dir = '../data/kaggle_cifar10_tiny'\\ntrain_img_dir = 'train'\\ntest_img_dir = 'test'\\n\\n# 训练数据集\\ntrain_dataset = MyDataset(labels, class2idx, root_dir, train_img_dir)\\n# 测试数据集\\ntest_dataset = MyDataset(labels, class2idx, root_dir, test_img_dir)\\n\""
     },
     "execution_count": 4,
     "metadata": {},
     "output_type": "execute_result"
    }
   ],
   "source": [
    "\"\"\"\n",
    "# 构建Dataset (第一种方法)\n",
    "class_name = list(set(labels.values()))\n",
    "class2idx = dict([(each, i) for i, each in enumerate(class_name)])\n",
    "\n",
    "class MyDataset(Dataset):\n",
    "    def __init__(self, img2label, class2idx, root_dir, img_dir):\n",
    "        self.img2label = img2label\n",
    "        self.class2idx = class2idx\n",
    "        self.root_dir = root_dir\n",
    "        self.img_dir = img_dir\n",
    "        self.img_path = os.path.join(self.root_dir, self.img_dir)\n",
    "        self.img_name = os.listdir(self.img_path)\n",
    "\n",
    "    def __getitem__(self, idx):\n",
    "        img = Image.open(os.path.join(self.img_path, self.img_name[idx]))\n",
    "        pic_idx = self.img_name[idx].strip().split('.')[0]\n",
    "        label = self.class2idx[self.img2label[pic_idx]]\n",
    "        return img, label\n",
    "\n",
    "    def __len__(self):\n",
    "        return len(self.img_name)\n",
    "\n",
    "root_dir = '../data/kaggle_cifar10_tiny'\n",
    "train_img_dir = 'train'\n",
    "test_img_dir = 'test'\n",
    "\n",
    "# 训练数据集\n",
    "train_dataset = MyDataset(labels, class2idx, root_dir, train_img_dir)\n",
    "# 测试数据集\n",
    "test_dataset = MyDataset(labels, class2idx, root_dir, test_img_dir)\n",
    "\"\"\""
   ],
   "metadata": {
    "collapsed": false,
    "pycharm": {
     "name": "#%%\n"
    }
   }
  },
  {
   "cell_type": "code",
   "execution_count": 5,
   "outputs": [],
   "source": [
    "\"\"\"\n",
    "data_dir\n",
    "    train\n",
    "    test\n",
    "    train_valid_split\n",
    "        train_valid（train + valid：放在一起）\n",
    "            class1\n",
    "            class2\n",
    "            ......\n",
    "        valid (如果ratio=0.3，则每个类别的样本数 = train文件夹中样本数目最少的类别的样本数 * ratio)\n",
    "            class1\n",
    "            class2\n",
    "            ......\n",
    "        train\n",
    "            class1\n",
    "            class2\n",
    "            ......\n",
    "        test\n",
    "            unknown\n",
    "\"\"\"\n",
    "\n",
    "# 构建Dataset (第二种方法)\n",
    "def copyfile(filename, target_dir):\n",
    "    \"\"\"将文件复制到目标目录\"\"\"\n",
    "    os.makedirs(target_dir, exist_ok=True)\n",
    "    shutil.copy(filename, target_dir)\n",
    "\n",
    "\n",
    "def reorg_train_valid(data_dir, labels, valid_ratio):\n",
    "    \"\"\"将验证集从原始的训练集中拆分出来\"\"\"\n",
    "    # 训练数据集中样本最少的类别中的样本数\n",
    "    n = collections.Counter(labels.values()).most_common()[-1][1]\n",
    "    # 验证集中每个类别的样本数\n",
    "    n_valid_per_label = max(1, math.floor(n * valid_ratio))\n",
    "    label_count = {}\n",
    "    # train_file是带.png的图片名称\n",
    "    for train_file in os.listdir(os.path.join(data_dir, 'train')):\n",
    "        # Map到类别名称\n",
    "        label = labels[train_file.split('.')[0]]\n",
    "        # 单张图片的路径\n",
    "        fname = os.path.join(data_dir, 'train', train_file)\n",
    "        copyfile(fname, os.path.join(data_dir, 'train_valid_test',\n",
    "                                     'train_valid', label))\n",
    "        if label not in label_count or label_count[label] < n_valid_per_label:\n",
    "            copyfile(fname, os.path.join(data_dir, 'train_valid_test',\n",
    "                                         'valid', label))\n",
    "            label_count[label] = label_count.get(label, 0) + 1  # .get(key, 0) 如果没有这个key，则给该key的value赋值为0\n",
    "        else:\n",
    "            copyfile(fname, os.path.join(data_dir, 'train_valid_test',\n",
    "                                         'train', label))\n",
    "    return n_valid_per_label\n",
    "\n",
    "\n",
    "def reorg_test(data_dir):\n",
    "    \"\"\"在预测期间整理测试集，以方便读取\"\"\"\n",
    "    for test_file in os.listdir(os.path.join(data_dir, 'test')):\n",
    "        copyfile(os.path.join(data_dir, 'test', test_file),\n",
    "                 os.path.join(data_dir, 'train_valid_test', 'test',\n",
    "                              'unknown'))  # 测试集不知道具体类别"
   ],
   "metadata": {
    "collapsed": false,
    "pycharm": {
     "name": "#%%\n"
    }
   }
  },
  {
   "cell_type": "code",
   "execution_count": 6,
   "outputs": [],
   "source": [
    "def reorg_cifar10_data(data_dir, valid_ratio):\n",
    "    # 把上面三个函数封装起来\n",
    "    labels = read_csv_labels(os.path.join(data_dir, 'trainLabels.csv'))\n",
    "    reorg_train_valid(data_dir, labels, valid_ratio)\n",
    "    reorg_test(data_dir)"
   ],
   "metadata": {
    "collapsed": false,
    "pycharm": {
     "name": "#%%\n"
    }
   }
  },
  {
   "cell_type": "code",
   "execution_count": 7,
   "outputs": [],
   "source": [
    "batch_size = 32 if demo else 128\n",
    "valid_ratio = 0.1\n",
    "reorg_cifar10_data(data_dir, valid_ratio)"
   ],
   "metadata": {
    "collapsed": false,
    "pycharm": {
     "name": "#%%\n"
    }
   }
  },
  {
   "cell_type": "code",
   "execution_count": 8,
   "outputs": [],
   "source": [
    "transform_train = torchvision.transforms.Compose([\n",
    "    # 在高度和宽度上将图像放大到40像素的正方形\n",
    "    torchvision.transforms.Resize(40),\n",
    "    # 随机裁剪出一个高度和宽度均为40像素的正方形图像，\n",
    "    # 生成一个面积为原始图像面积0.64～1倍的小正方形，\n",
    "    # 然后将其缩放为高度和宽度均为32像素的正方形\n",
    "    torchvision.transforms.RandomResizedCrop(32, scale=(0.64, 1.0),\n",
    "                                                   ratio=(1.0, 1.0)),\n",
    "    torchvision.transforms.RandomHorizontalFlip(),\n",
    "    torchvision.transforms.ToTensor(),\n",
    "    # 标准化图像的每个通道\n",
    "    torchvision.transforms.Normalize([0.4914, 0.4822, 0.4465],\n",
    "                                     [0.2023, 0.1994, 0.2010])])"
   ],
   "metadata": {
    "collapsed": false,
    "pycharm": {
     "name": "#%%\n"
    }
   }
  },
  {
   "cell_type": "code",
   "execution_count": 9,
   "outputs": [],
   "source": [
    "transform_test = torchvision.transforms.Compose([\n",
    "    torchvision.transforms.ToTensor(),\n",
    "    torchvision.transforms.Normalize([0.4914, 0.4822, 0.4465],\n",
    "                                     [0.2023, 0.1994, 0.2010])])"
   ],
   "metadata": {
    "collapsed": false,
    "pycharm": {
     "name": "#%%\n"
    }
   }
  },
  {
   "cell_type": "code",
   "execution_count": 10,
   "outputs": [],
   "source": [
    "# 使用torchvision.datasets.ImageFolder()函数构建Dataset\n",
    "train_ds, train_valid_ds = [torchvision.datasets.ImageFolder(\n",
    "    os.path.join(data_dir, 'train_valid_test', folder),\n",
    "    transform=transform_train) for folder in ['train', 'train_valid']]\n",
    "\n",
    "valid_ds, test_ds = [torchvision.datasets.ImageFolder(\n",
    "    os.path.join(data_dir, 'train_valid_test', folder),\n",
    "    transform=transform_test) for folder in ['valid', 'test']]"
   ],
   "metadata": {
    "collapsed": false,
    "pycharm": {
     "name": "#%%\n"
    }
   }
  },
  {
   "cell_type": "code",
   "execution_count": 11,
   "outputs": [],
   "source": [
    "train_iter, train_valid_iter = [torch.utils.data.DataLoader(\n",
    "    dataset, batch_size, shuffle=True, drop_last=True)\n",
    "    for dataset in (train_ds, train_valid_ds)]\n",
    "\n",
    "valid_iter = torch.utils.data.DataLoader(valid_ds, batch_size, shuffle=False,\n",
    "                                         drop_last=True)\n",
    "\n",
    "test_iter = torch.utils.data.DataLoader(test_ds, batch_size, shuffle=False,\n",
    "                                        drop_last=False)"
   ],
   "metadata": {
    "collapsed": false,
    "pycharm": {
     "name": "#%%\n"
    }
   }
  },
  {
   "cell_type": "code",
   "execution_count": 12,
   "outputs": [],
   "source": [
    "def get_net():\n",
    "    num_classes = 10\n",
    "    net = d2l.resnet18(num_classes, 3)\n",
    "    return net\n",
    "\n",
    "loss = nn.CrossEntropyLoss(reduction=\"none\")"
   ],
   "metadata": {
    "collapsed": false,
    "pycharm": {
     "name": "#%%\n"
    }
   }
  },
  {
   "cell_type": "code",
   "execution_count": 13,
   "outputs": [],
   "source": [
    "def train(net, train_iter, valid_iter, num_epochs, lr, wd, devices, lr_period,\n",
    "          lr_decay):\n",
    "    trainer = torch.optim.SGD(net.parameters(), lr=lr, momentum=0.9,\n",
    "                              weight_decay=wd)\n",
    "    scheduler = torch.optim.lr_scheduler.StepLR(trainer, lr_period, lr_decay)\n",
    "    num_batches, timer = len(train_iter), d2l.Timer()\n",
    "    legend = ['train loss', 'train acc']\n",
    "    if valid_iter is not None:\n",
    "        legend.append('valid acc')\n",
    "    animator = d2l.Animator(xlabel='epoch', xlim=[1, num_epochs],\n",
    "                            legend=legend)\n",
    "    net = nn.DataParallel(net, device_ids=devices).to(devices[0])\n",
    "    for epoch in range(num_epochs):\n",
    "        net.train()\n",
    "        metric = d2l.Accumulator(3)\n",
    "        for i, (features, labels) in enumerate(train_iter):\n",
    "            timer.start()\n",
    "            l, acc = d2l.train_batch_ch13(net, features, labels,\n",
    "                                          loss, trainer, devices)\n",
    "            metric.add(l, acc, labels.shape[0])\n",
    "            timer.stop()\n",
    "            if (i + 1) % (num_batches // 5) == 0 or i == num_batches - 1:\n",
    "                animator.add(epoch + (i + 1) / num_batches,\n",
    "                             (metric[0] / metric[2], metric[1] / metric[2],\n",
    "                              None))\n",
    "        if valid_iter is not None:\n",
    "            valid_acc = d2l.evaluate_accuracy_gpu(net, valid_iter)\n",
    "            animator.add(epoch + 1, (None, None, valid_acc))\n",
    "        scheduler.step()  # 每个epoch训练结束后使用\n",
    "    measures = (f'train loss {metric[0] / metric[2]:.3f}, '\n",
    "                f'train acc {metric[1] / metric[2]:.3f}')\n",
    "    if valid_iter is not None:\n",
    "        measures += f', valid acc {valid_acc:.3f}'\n",
    "    print(measures + f'\\n{metric[2] * num_epochs / timer.sum():.1f}'\n",
    "          f' examples/sec on {str(devices)}')"
   ],
   "metadata": {
    "collapsed": false,
    "pycharm": {
     "name": "#%%\n"
    }
   }
  },
  {
   "cell_type": "code",
   "execution_count": 14,
   "outputs": [
    {
     "name": "stdout",
     "output_type": "stream",
     "text": [
      "train loss 0.979, train acc 0.662, valid acc 0.469\n",
      "483.0 examples/sec on [device(type='cuda', index=0), device(type='cuda', index=1), device(type='cuda', index=2), device(type='cuda', index=3), device(type='cuda', index=4), device(type='cuda', index=5), device(type='cuda', index=6), device(type='cuda', index=7)]\n"
     ]
    },
    {
     "data": {
      "text/plain": "<Figure size 350x250 with 1 Axes>",
      "image/svg+xml": "<?xml version=\"1.0\" encoding=\"utf-8\" standalone=\"no\"?>\n<!DOCTYPE svg PUBLIC \"-//W3C//DTD SVG 1.1//EN\"\n  \"http://www.w3.org/Graphics/SVG/1.1/DTD/svg11.dtd\">\n<svg xmlns:xlink=\"http://www.w3.org/1999/xlink\" width=\"238.965625pt\" height=\"183.35625pt\" viewBox=\"0 0 238.965625 183.35625\" xmlns=\"http://www.w3.org/2000/svg\" version=\"1.1\">\n <metadata>\n  <rdf:RDF xmlns:dc=\"http://purl.org/dc/elements/1.1/\" xmlns:cc=\"http://creativecommons.org/ns#\" xmlns:rdf=\"http://www.w3.org/1999/02/22-rdf-syntax-ns#\">\n   <cc:Work>\n    <dc:type rdf:resource=\"http://purl.org/dc/dcmitype/StillImage\"/>\n    <dc:date>2023-12-14T23:47:06.318450</dc:date>\n    <dc:format>image/svg+xml</dc:format>\n    <dc:creator>\n     <cc:Agent>\n      <dc:title>Matplotlib v3.5.1, https://matplotlib.org/</dc:title>\n     </cc:Agent>\n    </dc:creator>\n   </cc:Work>\n  </rdf:RDF>\n </metadata>\n <defs>\n  <style type=\"text/css\">*{stroke-linejoin: round; stroke-linecap: butt}</style>\n </defs>\n <g id=\"figure_1\">\n  <g id=\"patch_1\">\n   <path d=\"M 0 183.35625 \nL 238.965625 183.35625 \nL 238.965625 0 \nL 0 0 \nz\n\" style=\"fill: #ffffff\"/>\n  </g>\n  <g id=\"axes_1\">\n   <g id=\"patch_2\">\n    <path d=\"M 30.103125 145.8 \nL 225.403125 145.8 \nL 225.403125 7.2 \nL 30.103125 7.2 \nz\n\" style=\"fill: #ffffff\"/>\n   </g>\n   <g id=\"matplotlib.axis_1\">\n    <g id=\"xtick_1\">\n     <g id=\"line2d_1\">\n      <path d=\"M 71.218914 145.8 \nL 71.218914 7.2 \n\" clip-path=\"url(#p58da8ce79d)\" style=\"fill: none; stroke: #b0b0b0; stroke-width: 0.8; stroke-linecap: square\"/>\n     </g>\n     <g id=\"line2d_2\">\n      <defs>\n       <path id=\"mfa046b30d0\" d=\"M 0 0 \nL 0 3.5 \n\" style=\"stroke: #000000; stroke-width: 0.8\"/>\n      </defs>\n      <g>\n       <use xlink:href=\"#mfa046b30d0\" x=\"71.218914\" y=\"145.8\" style=\"stroke: #000000; stroke-width: 0.8\"/>\n      </g>\n     </g>\n     <g id=\"text_1\">\n      <!-- 5 -->\n      <g transform=\"translate(68.037664 160.398438)scale(0.1 -0.1)\">\n       <defs>\n        <path id=\"DejaVuSans-35\" d=\"M 691 4666 \nL 3169 4666 \nL 3169 4134 \nL 1269 4134 \nL 1269 2991 \nQ 1406 3038 1543 3061 \nQ 1681 3084 1819 3084 \nQ 2600 3084 3056 2656 \nQ 3513 2228 3513 1497 \nQ 3513 744 3044 326 \nQ 2575 -91 1722 -91 \nQ 1428 -91 1123 -41 \nQ 819 9 494 109 \nL 494 744 \nQ 775 591 1075 516 \nQ 1375 441 1709 441 \nQ 2250 441 2565 725 \nQ 2881 1009 2881 1497 \nQ 2881 1984 2565 2268 \nQ 2250 2553 1709 2553 \nQ 1456 2553 1204 2497 \nQ 953 2441 691 2322 \nL 691 4666 \nz\n\" transform=\"scale(0.015625)\"/>\n       </defs>\n       <use xlink:href=\"#DejaVuSans-35\"/>\n      </g>\n     </g>\n    </g>\n    <g id=\"xtick_2\">\n     <g id=\"line2d_3\">\n      <path d=\"M 122.613651 145.8 \nL 122.613651 7.2 \n\" clip-path=\"url(#p58da8ce79d)\" style=\"fill: none; stroke: #b0b0b0; stroke-width: 0.8; stroke-linecap: square\"/>\n     </g>\n     <g id=\"line2d_4\">\n      <g>\n       <use xlink:href=\"#mfa046b30d0\" x=\"122.613651\" y=\"145.8\" style=\"stroke: #000000; stroke-width: 0.8\"/>\n      </g>\n     </g>\n     <g id=\"text_2\">\n      <!-- 10 -->\n      <g transform=\"translate(116.251151 160.398438)scale(0.1 -0.1)\">\n       <defs>\n        <path id=\"DejaVuSans-31\" d=\"M 794 531 \nL 1825 531 \nL 1825 4091 \nL 703 3866 \nL 703 4441 \nL 1819 4666 \nL 2450 4666 \nL 2450 531 \nL 3481 531 \nL 3481 0 \nL 794 0 \nL 794 531 \nz\n\" transform=\"scale(0.015625)\"/>\n        <path id=\"DejaVuSans-30\" d=\"M 2034 4250 \nQ 1547 4250 1301 3770 \nQ 1056 3291 1056 2328 \nQ 1056 1369 1301 889 \nQ 1547 409 2034 409 \nQ 2525 409 2770 889 \nQ 3016 1369 3016 2328 \nQ 3016 3291 2770 3770 \nQ 2525 4250 2034 4250 \nz\nM 2034 4750 \nQ 2819 4750 3233 4129 \nQ 3647 3509 3647 2328 \nQ 3647 1150 3233 529 \nQ 2819 -91 2034 -91 \nQ 1250 -91 836 529 \nQ 422 1150 422 2328 \nQ 422 3509 836 4129 \nQ 1250 4750 2034 4750 \nz\n\" transform=\"scale(0.015625)\"/>\n       </defs>\n       <use xlink:href=\"#DejaVuSans-31\"/>\n       <use xlink:href=\"#DejaVuSans-30\" x=\"63.623047\"/>\n      </g>\n     </g>\n    </g>\n    <g id=\"xtick_3\">\n     <g id=\"line2d_5\">\n      <path d=\"M 174.008388 145.8 \nL 174.008388 7.2 \n\" clip-path=\"url(#p58da8ce79d)\" style=\"fill: none; stroke: #b0b0b0; stroke-width: 0.8; stroke-linecap: square\"/>\n     </g>\n     <g id=\"line2d_6\">\n      <g>\n       <use xlink:href=\"#mfa046b30d0\" x=\"174.008388\" y=\"145.8\" style=\"stroke: #000000; stroke-width: 0.8\"/>\n      </g>\n     </g>\n     <g id=\"text_3\">\n      <!-- 15 -->\n      <g transform=\"translate(167.645888 160.398438)scale(0.1 -0.1)\">\n       <use xlink:href=\"#DejaVuSans-31\"/>\n       <use xlink:href=\"#DejaVuSans-35\" x=\"63.623047\"/>\n      </g>\n     </g>\n    </g>\n    <g id=\"xtick_4\">\n     <g id=\"line2d_7\">\n      <path d=\"M 225.403125 145.8 \nL 225.403125 7.2 \n\" clip-path=\"url(#p58da8ce79d)\" style=\"fill: none; stroke: #b0b0b0; stroke-width: 0.8; stroke-linecap: square\"/>\n     </g>\n     <g id=\"line2d_8\">\n      <g>\n       <use xlink:href=\"#mfa046b30d0\" x=\"225.403125\" y=\"145.8\" style=\"stroke: #000000; stroke-width: 0.8\"/>\n      </g>\n     </g>\n     <g id=\"text_4\">\n      <!-- 20 -->\n      <g transform=\"translate(219.040625 160.398438)scale(0.1 -0.1)\">\n       <defs>\n        <path id=\"DejaVuSans-32\" d=\"M 1228 531 \nL 3431 531 \nL 3431 0 \nL 469 0 \nL 469 531 \nQ 828 903 1448 1529 \nQ 2069 2156 2228 2338 \nQ 2531 2678 2651 2914 \nQ 2772 3150 2772 3378 \nQ 2772 3750 2511 3984 \nQ 2250 4219 1831 4219 \nQ 1534 4219 1204 4116 \nQ 875 4013 500 3803 \nL 500 4441 \nQ 881 4594 1212 4672 \nQ 1544 4750 1819 4750 \nQ 2544 4750 2975 4387 \nQ 3406 4025 3406 3419 \nQ 3406 3131 3298 2873 \nQ 3191 2616 2906 2266 \nQ 2828 2175 2409 1742 \nQ 1991 1309 1228 531 \nz\n\" transform=\"scale(0.015625)\"/>\n       </defs>\n       <use xlink:href=\"#DejaVuSans-32\"/>\n       <use xlink:href=\"#DejaVuSans-30\" x=\"63.623047\"/>\n      </g>\n     </g>\n    </g>\n    <g id=\"text_5\">\n     <!-- epoch -->\n     <g transform=\"translate(112.525 174.076563)scale(0.1 -0.1)\">\n      <defs>\n       <path id=\"DejaVuSans-65\" d=\"M 3597 1894 \nL 3597 1613 \nL 953 1613 \nQ 991 1019 1311 708 \nQ 1631 397 2203 397 \nQ 2534 397 2845 478 \nQ 3156 559 3463 722 \nL 3463 178 \nQ 3153 47 2828 -22 \nQ 2503 -91 2169 -91 \nQ 1331 -91 842 396 \nQ 353 884 353 1716 \nQ 353 2575 817 3079 \nQ 1281 3584 2069 3584 \nQ 2775 3584 3186 3129 \nQ 3597 2675 3597 1894 \nz\nM 3022 2063 \nQ 3016 2534 2758 2815 \nQ 2500 3097 2075 3097 \nQ 1594 3097 1305 2825 \nQ 1016 2553 972 2059 \nL 3022 2063 \nz\n\" transform=\"scale(0.015625)\"/>\n       <path id=\"DejaVuSans-70\" d=\"M 1159 525 \nL 1159 -1331 \nL 581 -1331 \nL 581 3500 \nL 1159 3500 \nL 1159 2969 \nQ 1341 3281 1617 3432 \nQ 1894 3584 2278 3584 \nQ 2916 3584 3314 3078 \nQ 3713 2572 3713 1747 \nQ 3713 922 3314 415 \nQ 2916 -91 2278 -91 \nQ 1894 -91 1617 61 \nQ 1341 213 1159 525 \nz\nM 3116 1747 \nQ 3116 2381 2855 2742 \nQ 2594 3103 2138 3103 \nQ 1681 3103 1420 2742 \nQ 1159 2381 1159 1747 \nQ 1159 1113 1420 752 \nQ 1681 391 2138 391 \nQ 2594 391 2855 752 \nQ 3116 1113 3116 1747 \nz\n\" transform=\"scale(0.015625)\"/>\n       <path id=\"DejaVuSans-6f\" d=\"M 1959 3097 \nQ 1497 3097 1228 2736 \nQ 959 2375 959 1747 \nQ 959 1119 1226 758 \nQ 1494 397 1959 397 \nQ 2419 397 2687 759 \nQ 2956 1122 2956 1747 \nQ 2956 2369 2687 2733 \nQ 2419 3097 1959 3097 \nz\nM 1959 3584 \nQ 2709 3584 3137 3096 \nQ 3566 2609 3566 1747 \nQ 3566 888 3137 398 \nQ 2709 -91 1959 -91 \nQ 1206 -91 779 398 \nQ 353 888 353 1747 \nQ 353 2609 779 3096 \nQ 1206 3584 1959 3584 \nz\n\" transform=\"scale(0.015625)\"/>\n       <path id=\"DejaVuSans-63\" d=\"M 3122 3366 \nL 3122 2828 \nQ 2878 2963 2633 3030 \nQ 2388 3097 2138 3097 \nQ 1578 3097 1268 2742 \nQ 959 2388 959 1747 \nQ 959 1106 1268 751 \nQ 1578 397 2138 397 \nQ 2388 397 2633 464 \nQ 2878 531 3122 666 \nL 3122 134 \nQ 2881 22 2623 -34 \nQ 2366 -91 2075 -91 \nQ 1284 -91 818 406 \nQ 353 903 353 1747 \nQ 353 2603 823 3093 \nQ 1294 3584 2113 3584 \nQ 2378 3584 2631 3529 \nQ 2884 3475 3122 3366 \nz\n\" transform=\"scale(0.015625)\"/>\n       <path id=\"DejaVuSans-68\" d=\"M 3513 2113 \nL 3513 0 \nL 2938 0 \nL 2938 2094 \nQ 2938 2591 2744 2837 \nQ 2550 3084 2163 3084 \nQ 1697 3084 1428 2787 \nQ 1159 2491 1159 1978 \nL 1159 0 \nL 581 0 \nL 581 4863 \nL 1159 4863 \nL 1159 2956 \nQ 1366 3272 1645 3428 \nQ 1925 3584 2291 3584 \nQ 2894 3584 3203 3211 \nQ 3513 2838 3513 2113 \nz\n\" transform=\"scale(0.015625)\"/>\n      </defs>\n      <use xlink:href=\"#DejaVuSans-65\"/>\n      <use xlink:href=\"#DejaVuSans-70\" x=\"61.523438\"/>\n      <use xlink:href=\"#DejaVuSans-6f\" x=\"125\"/>\n      <use xlink:href=\"#DejaVuSans-63\" x=\"186.181641\"/>\n      <use xlink:href=\"#DejaVuSans-68\" x=\"241.162109\"/>\n     </g>\n    </g>\n   </g>\n   <g id=\"matplotlib.axis_2\">\n    <g id=\"ytick_1\">\n     <g id=\"line2d_9\">\n      <path d=\"M 30.103125 143.663486 \nL 225.403125 143.663486 \n\" clip-path=\"url(#p58da8ce79d)\" style=\"fill: none; stroke: #b0b0b0; stroke-width: 0.8; stroke-linecap: square\"/>\n     </g>\n     <g id=\"line2d_10\">\n      <defs>\n       <path id=\"m3e8a3dc646\" d=\"M 0 0 \nL -3.5 0 \n\" style=\"stroke: #000000; stroke-width: 0.8\"/>\n      </defs>\n      <g>\n       <use xlink:href=\"#m3e8a3dc646\" x=\"30.103125\" y=\"143.663486\" style=\"stroke: #000000; stroke-width: 0.8\"/>\n      </g>\n     </g>\n     <g id=\"text_6\">\n      <!-- 0.0 -->\n      <g transform=\"translate(7.2 147.462705)scale(0.1 -0.1)\">\n       <defs>\n        <path id=\"DejaVuSans-2e\" d=\"M 684 794 \nL 1344 794 \nL 1344 0 \nL 684 0 \nL 684 794 \nz\n\" transform=\"scale(0.015625)\"/>\n       </defs>\n       <use xlink:href=\"#DejaVuSans-30\"/>\n       <use xlink:href=\"#DejaVuSans-2e\" x=\"63.623047\"/>\n       <use xlink:href=\"#DejaVuSans-30\" x=\"95.410156\"/>\n      </g>\n     </g>\n    </g>\n    <g id=\"ytick_2\">\n     <g id=\"line2d_11\">\n      <path d=\"M 30.103125 115.906912 \nL 225.403125 115.906912 \n\" clip-path=\"url(#p58da8ce79d)\" style=\"fill: none; stroke: #b0b0b0; stroke-width: 0.8; stroke-linecap: square\"/>\n     </g>\n     <g id=\"line2d_12\">\n      <g>\n       <use xlink:href=\"#m3e8a3dc646\" x=\"30.103125\" y=\"115.906912\" style=\"stroke: #000000; stroke-width: 0.8\"/>\n      </g>\n     </g>\n     <g id=\"text_7\">\n      <!-- 0.5 -->\n      <g transform=\"translate(7.2 119.706131)scale(0.1 -0.1)\">\n       <use xlink:href=\"#DejaVuSans-30\"/>\n       <use xlink:href=\"#DejaVuSans-2e\" x=\"63.623047\"/>\n       <use xlink:href=\"#DejaVuSans-35\" x=\"95.410156\"/>\n      </g>\n     </g>\n    </g>\n    <g id=\"ytick_3\">\n     <g id=\"line2d_13\">\n      <path d=\"M 30.103125 88.150338 \nL 225.403125 88.150338 \n\" clip-path=\"url(#p58da8ce79d)\" style=\"fill: none; stroke: #b0b0b0; stroke-width: 0.8; stroke-linecap: square\"/>\n     </g>\n     <g id=\"line2d_14\">\n      <g>\n       <use xlink:href=\"#m3e8a3dc646\" x=\"30.103125\" y=\"88.150338\" style=\"stroke: #000000; stroke-width: 0.8\"/>\n      </g>\n     </g>\n     <g id=\"text_8\">\n      <!-- 1.0 -->\n      <g transform=\"translate(7.2 91.949556)scale(0.1 -0.1)\">\n       <use xlink:href=\"#DejaVuSans-31\"/>\n       <use xlink:href=\"#DejaVuSans-2e\" x=\"63.623047\"/>\n       <use xlink:href=\"#DejaVuSans-30\" x=\"95.410156\"/>\n      </g>\n     </g>\n    </g>\n    <g id=\"ytick_4\">\n     <g id=\"line2d_15\">\n      <path d=\"M 30.103125 60.393763 \nL 225.403125 60.393763 \n\" clip-path=\"url(#p58da8ce79d)\" style=\"fill: none; stroke: #b0b0b0; stroke-width: 0.8; stroke-linecap: square\"/>\n     </g>\n     <g id=\"line2d_16\">\n      <g>\n       <use xlink:href=\"#m3e8a3dc646\" x=\"30.103125\" y=\"60.393763\" style=\"stroke: #000000; stroke-width: 0.8\"/>\n      </g>\n     </g>\n     <g id=\"text_9\">\n      <!-- 1.5 -->\n      <g transform=\"translate(7.2 64.192982)scale(0.1 -0.1)\">\n       <use xlink:href=\"#DejaVuSans-31\"/>\n       <use xlink:href=\"#DejaVuSans-2e\" x=\"63.623047\"/>\n       <use xlink:href=\"#DejaVuSans-35\" x=\"95.410156\"/>\n      </g>\n     </g>\n    </g>\n    <g id=\"ytick_5\">\n     <g id=\"line2d_17\">\n      <path d=\"M 30.103125 32.637189 \nL 225.403125 32.637189 \n\" clip-path=\"url(#p58da8ce79d)\" style=\"fill: none; stroke: #b0b0b0; stroke-width: 0.8; stroke-linecap: square\"/>\n     </g>\n     <g id=\"line2d_18\">\n      <g>\n       <use xlink:href=\"#m3e8a3dc646\" x=\"30.103125\" y=\"32.637189\" style=\"stroke: #000000; stroke-width: 0.8\"/>\n      </g>\n     </g>\n     <g id=\"text_10\">\n      <!-- 2.0 -->\n      <g transform=\"translate(7.2 36.436408)scale(0.1 -0.1)\">\n       <use xlink:href=\"#DejaVuSans-32\"/>\n       <use xlink:href=\"#DejaVuSans-2e\" x=\"63.623047\"/>\n       <use xlink:href=\"#DejaVuSans-30\" x=\"95.410156\"/>\n      </g>\n     </g>\n    </g>\n   </g>\n   <g id=\"line2d_19\">\n    <path d=\"M 21.659704 14.005553 \nL 23.49523 13.5 \nL 25.330757 13.82915 \nL 27.166283 16.537021 \nL 29.001809 17.770671 \nL 30.103125 17.479181 \nL 31.938651 20.457976 \nL 33.774178 20.515174 \nL 35.609704 20.245847 \nL 37.44523 21.462874 \nL 39.280757 22.019093 \nL 40.382072 22.34055 \nL 42.217599 30.72309 \nL 44.053125 28.766059 \nL 45.888651 28.479121 \nL 47.724178 28.927225 \nL 49.559704 28.860354 \nL 50.66102 30.312401 \nL 52.496546 38.769724 \nL 54.332072 37.869956 \nL 56.167599 39.179942 \nL 58.003125 38.773861 \nL 59.838651 38.714508 \nL 60.939967 39.427616 \nL 62.775493 39.004117 \nL 64.61102 43.081832 \nL 66.446546 44.084852 \nL 68.282072 44.17289 \nL 70.117599 41.937323 \nL 71.218914 40.868732 \nL 73.054441 41.75543 \nL 74.889967 45.995825 \nL 76.725493 46.001724 \nL 78.56102 47.256637 \nL 80.396546 46.005285 \nL 81.497862 46.54905 \nL 83.333388 46.523871 \nL 85.168914 47.284411 \nL 87.004441 45.849657 \nL 88.839967 45.407476 \nL 90.675493 46.073136 \nL 91.776809 46.243735 \nL 93.612336 54.706209 \nL 95.447862 55.210887 \nL 97.283388 53.013689 \nL 99.118914 50.670001 \nL 100.954441 51.425831 \nL 102.055757 50.786275 \nL 103.891283 49.116616 \nL 105.726809 55.050684 \nL 107.562336 54.012046 \nL 109.397862 55.480646 \nL 111.233388 53.412203 \nL 112.334704 53.294532 \nL 114.17023 59.47041 \nL 116.005757 57.60821 \nL 117.841283 56.198766 \nL 119.676809 57.911585 \nL 121.512336 57.97993 \nL 122.613651 57.25492 \nL 124.449178 66.215012 \nL 126.284704 61.893471 \nL 128.12023 61.219618 \nL 129.955757 61.720192 \nL 131.791283 62.279189 \nL 132.892599 61.604282 \nL 134.728125 65.272154 \nL 136.563651 65.521831 \nL 138.399178 65.614877 \nL 140.234704 64.620273 \nL 142.07023 66.627107 \nL 143.171546 66.731225 \nL 145.007072 65.538827 \nL 146.842599 66.234822 \nL 148.678125 67.08079 \nL 150.513651 68.738632 \nL 152.349178 68.536609 \nL 153.450493 67.962155 \nL 155.28602 67.72488 \nL 157.121546 65.961916 \nL 158.957072 69.77861 \nL 160.792599 69.511193 \nL 162.628125 68.884944 \nL 163.729441 67.843636 \nL 165.564967 77.51993 \nL 167.400493 80.570122 \nL 169.23602 77.533497 \nL 171.071546 74.954329 \nL 172.907072 71.193739 \nL 174.008388 70.249118 \nL 175.843914 74.524683 \nL 177.679441 74.71989 \nL 179.514967 70.277886 \nL 181.350493 68.841637 \nL 183.18602 69.52711 \nL 184.287336 69.253698 \nL 186.122862 86.081733 \nL 187.958388 79.708479 \nL 189.793914 75.902815 \nL 191.629441 76.362446 \nL 193.464967 76.349911 \nL 194.566283 76.737203 \nL 196.401809 85.28274 \nL 198.237336 86.554758 \nL 200.072862 86.421962 \nL 201.908388 85.547349 \nL 203.743914 83.850053 \nL 204.84523 84.111513 \nL 206.680757 86.26478 \nL 208.516283 82.125473 \nL 210.351809 84.105448 \nL 212.187336 81.573161 \nL 214.022862 82.137693 \nL 215.124178 82.189922 \nL 216.959704 94.331392 \nL 218.79523 94.649976 \nL 220.630757 94.529845 \nL 222.466283 92.915678 \nL 224.301809 89.812782 \nL 225.403125 89.335609 \n\" clip-path=\"url(#p58da8ce79d)\" style=\"fill: none; stroke: #1f77b4; stroke-width: 1.5; stroke-linecap: square\"/>\n   </g>\n   <g id=\"line2d_20\">\n    <path d=\"M 21.659704 139.5 \nL 23.49523 136.897821 \nL 25.330757 135.914776 \nL 27.166283 134.6426 \nL 29.001809 134.6426 \nL 30.103125 134.431947 \nL 31.938651 133.254771 \nL 33.774178 132.734335 \nL 35.609704 131.982594 \nL 37.44523 131.173028 \nL 39.280757 130.895462 \nL 40.382072 131.024332 \nL 42.217599 125.274756 \nL 44.053125 127.703456 \nL 45.888651 127.819108 \nL 47.724178 127.443238 \nL 49.559704 127.772847 \nL 50.66102 127.36889 \nL 52.496546 125.96867 \nL 54.332072 127.703456 \nL 56.167599 127.125194 \nL 58.003125 126.922802 \nL 59.838651 126.731976 \nL 60.939967 126.253671 \nL 62.775493 125.96867 \nL 64.61102 125.621713 \nL 66.446546 124.465189 \nL 68.282072 125.014538 \nL 70.117599 126.038061 \nL 71.218914 126.315627 \nL 73.054441 124.927799 \nL 74.889967 123.366491 \nL 76.725493 123.655622 \nL 78.56102 123.193013 \nL 80.396546 123.193013 \nL 81.497862 123.031925 \nL 83.333388 123.193013 \nL 85.168914 122.152141 \nL 87.004441 122.036489 \nL 88.839967 123.106273 \nL 90.675493 122.499098 \nL 91.776809 122.598229 \nL 93.612336 120.070398 \nL 95.447862 120.070398 \nL 97.283388 120.18605 \nL 99.118914 121.02453 \nL 100.954441 121.180661 \nL 102.055757 121.483009 \nL 103.891283 120.764312 \nL 105.726809 119.376484 \nL 107.562336 119.723441 \nL 109.397862 119.463223 \nL 111.233388 119.931615 \nL 112.334704 120.058007 \nL 114.17023 120.070398 \nL 116.005757 119.029526 \nL 117.841283 119.492136 \nL 119.676809 118.856048 \nL 121.512336 118.405004 \nL 122.613651 118.756917 \nL 124.449178 115.559955 \nL 126.284704 117.121262 \nL 128.12023 118.21996 \nL 129.955757 117.728437 \nL 131.791283 117.433523 \nL 132.892599 117.703654 \nL 134.728125 117.294741 \nL 136.563651 114.86604 \nL 138.399178 114.287778 \nL 140.234704 114.95278 \nL 142.07023 114.310909 \nL 143.171546 114.110169 \nL 145.007072 113.478212 \nL 146.842599 114.519083 \nL 148.678125 114.86604 \nL 150.513651 114.432344 \nL 152.349178 114.657866 \nL 153.450493 114.791692 \nL 155.28602 113.478212 \nL 157.121546 115.039519 \nL 158.957072 114.403431 \nL 160.792599 114.86604 \nL 162.628125 115.074215 \nL 163.729441 115.287345 \nL 165.564967 112.090383 \nL 167.400493 110.00864 \nL 169.23602 111.049511 \nL 171.071546 112.350601 \nL 172.907072 113.616994 \nL 174.008388 113.676473 \nL 175.843914 111.396469 \nL 177.679441 112.263862 \nL 179.514967 113.593864 \nL 181.350493 114.085387 \nL 183.18602 113.963952 \nL 184.287336 114.110169 \nL 186.122862 107.926897 \nL 187.958388 110.00864 \nL 189.793914 111.859078 \nL 191.629441 112.090383 \nL 193.464967 112.020991 \nL 194.566283 112.0656 \nL 196.401809 108.967768 \nL 198.237336 108.79429 \nL 200.072862 107.926897 \nL 201.908388 108.79429 \nL 203.743914 109.453508 \nL 204.84523 109.215595 \nL 206.680757 107.232982 \nL 208.516283 108.273854 \nL 210.351809 107.464287 \nL 212.187336 108.360593 \nL 214.022862 108.204463 \nL 215.124178 108.224289 \nL 216.959704 104.110368 \nL 218.79523 104.283846 \nL 220.630757 104.457325 \nL 222.466283 105.411457 \nL 224.301809 106.608459 \nL 225.403125 106.923199 \n\" clip-path=\"url(#p58da8ce79d)\" style=\"fill: none; stroke-dasharray: 5.55,2.4; stroke-dashoffset: 0; stroke: #bf00bf; stroke-width: 1.5\"/>\n   </g>\n   <g id=\"line2d_21\">\n    <path d=\"M 30.103125 135.85695 \nL 40.382072 125.448234 \nL 50.66102 130.652592 \nL 60.939967 118.509091 \nL 71.218914 121.978662 \nL 81.497862 124.580841 \nL 91.776809 118.509091 \nL 102.055757 115.906912 \nL 112.334704 126.315627 \nL 122.613651 120.243877 \nL 132.892599 119.376484 \nL 143.171546 121.978662 \nL 153.450493 120.243877 \nL 163.729441 117.641698 \nL 174.008388 121.11127 \nL 184.287336 126.315627 \nL 194.566283 120.243877 \nL 204.84523 117.641698 \nL 215.124178 128.050413 \nL 225.403125 117.641698 \n\" clip-path=\"url(#p58da8ce79d)\" style=\"fill: none; stroke-dasharray: 9.6,2.4,1.5,2.4; stroke-dashoffset: 0; stroke: #008000; stroke-width: 1.5\"/>\n   </g>\n   <g id=\"patch_3\">\n    <path d=\"M 30.103125 145.8 \nL 30.103125 7.2 \n\" style=\"fill: none; stroke: #000000; stroke-width: 0.8; stroke-linejoin: miter; stroke-linecap: square\"/>\n   </g>\n   <g id=\"patch_4\">\n    <path d=\"M 225.403125 145.8 \nL 225.403125 7.2 \n\" style=\"fill: none; stroke: #000000; stroke-width: 0.8; stroke-linejoin: miter; stroke-linecap: square\"/>\n   </g>\n   <g id=\"patch_5\">\n    <path d=\"M 30.103125 145.8 \nL 225.403125 145.8 \n\" style=\"fill: none; stroke: #000000; stroke-width: 0.8; stroke-linejoin: miter; stroke-linecap: square\"/>\n   </g>\n   <g id=\"patch_6\">\n    <path d=\"M 30.103125 7.2 \nL 225.403125 7.2 \n\" style=\"fill: none; stroke: #000000; stroke-width: 0.8; stroke-linejoin: miter; stroke-linecap: square\"/>\n   </g>\n   <g id=\"legend_1\">\n    <g id=\"patch_7\">\n     <path d=\"M 140.634375 59.234375 \nL 218.403125 59.234375 \nQ 220.403125 59.234375 220.403125 57.234375 \nL 220.403125 14.2 \nQ 220.403125 12.2 218.403125 12.2 \nL 140.634375 12.2 \nQ 138.634375 12.2 138.634375 14.2 \nL 138.634375 57.234375 \nQ 138.634375 59.234375 140.634375 59.234375 \nz\n\" style=\"fill: #ffffff; opacity: 0.8; stroke: #cccccc; stroke-linejoin: miter\"/>\n    </g>\n    <g id=\"line2d_22\">\n     <path d=\"M 142.634375 20.298438 \nL 152.634375 20.298438 \nL 162.634375 20.298438 \n\" style=\"fill: none; stroke: #1f77b4; stroke-width: 1.5; stroke-linecap: square\"/>\n    </g>\n    <g id=\"text_11\">\n     <!-- train loss -->\n     <g transform=\"translate(170.634375 23.798438)scale(0.1 -0.1)\">\n      <defs>\n       <path id=\"DejaVuSans-74\" d=\"M 1172 4494 \nL 1172 3500 \nL 2356 3500 \nL 2356 3053 \nL 1172 3053 \nL 1172 1153 \nQ 1172 725 1289 603 \nQ 1406 481 1766 481 \nL 2356 481 \nL 2356 0 \nL 1766 0 \nQ 1100 0 847 248 \nQ 594 497 594 1153 \nL 594 3053 \nL 172 3053 \nL 172 3500 \nL 594 3500 \nL 594 4494 \nL 1172 4494 \nz\n\" transform=\"scale(0.015625)\"/>\n       <path id=\"DejaVuSans-72\" d=\"M 2631 2963 \nQ 2534 3019 2420 3045 \nQ 2306 3072 2169 3072 \nQ 1681 3072 1420 2755 \nQ 1159 2438 1159 1844 \nL 1159 0 \nL 581 0 \nL 581 3500 \nL 1159 3500 \nL 1159 2956 \nQ 1341 3275 1631 3429 \nQ 1922 3584 2338 3584 \nQ 2397 3584 2469 3576 \nQ 2541 3569 2628 3553 \nL 2631 2963 \nz\n\" transform=\"scale(0.015625)\"/>\n       <path id=\"DejaVuSans-61\" d=\"M 2194 1759 \nQ 1497 1759 1228 1600 \nQ 959 1441 959 1056 \nQ 959 750 1161 570 \nQ 1363 391 1709 391 \nQ 2188 391 2477 730 \nQ 2766 1069 2766 1631 \nL 2766 1759 \nL 2194 1759 \nz\nM 3341 1997 \nL 3341 0 \nL 2766 0 \nL 2766 531 \nQ 2569 213 2275 61 \nQ 1981 -91 1556 -91 \nQ 1019 -91 701 211 \nQ 384 513 384 1019 \nQ 384 1609 779 1909 \nQ 1175 2209 1959 2209 \nL 2766 2209 \nL 2766 2266 \nQ 2766 2663 2505 2880 \nQ 2244 3097 1772 3097 \nQ 1472 3097 1187 3025 \nQ 903 2953 641 2809 \nL 641 3341 \nQ 956 3463 1253 3523 \nQ 1550 3584 1831 3584 \nQ 2591 3584 2966 3190 \nQ 3341 2797 3341 1997 \nz\n\" transform=\"scale(0.015625)\"/>\n       <path id=\"DejaVuSans-69\" d=\"M 603 3500 \nL 1178 3500 \nL 1178 0 \nL 603 0 \nL 603 3500 \nz\nM 603 4863 \nL 1178 4863 \nL 1178 4134 \nL 603 4134 \nL 603 4863 \nz\n\" transform=\"scale(0.015625)\"/>\n       <path id=\"DejaVuSans-6e\" d=\"M 3513 2113 \nL 3513 0 \nL 2938 0 \nL 2938 2094 \nQ 2938 2591 2744 2837 \nQ 2550 3084 2163 3084 \nQ 1697 3084 1428 2787 \nQ 1159 2491 1159 1978 \nL 1159 0 \nL 581 0 \nL 581 3500 \nL 1159 3500 \nL 1159 2956 \nQ 1366 3272 1645 3428 \nQ 1925 3584 2291 3584 \nQ 2894 3584 3203 3211 \nQ 3513 2838 3513 2113 \nz\n\" transform=\"scale(0.015625)\"/>\n       <path id=\"DejaVuSans-20\" transform=\"scale(0.015625)\"/>\n       <path id=\"DejaVuSans-6c\" d=\"M 603 4863 \nL 1178 4863 \nL 1178 0 \nL 603 0 \nL 603 4863 \nz\n\" transform=\"scale(0.015625)\"/>\n       <path id=\"DejaVuSans-73\" d=\"M 2834 3397 \nL 2834 2853 \nQ 2591 2978 2328 3040 \nQ 2066 3103 1784 3103 \nQ 1356 3103 1142 2972 \nQ 928 2841 928 2578 \nQ 928 2378 1081 2264 \nQ 1234 2150 1697 2047 \nL 1894 2003 \nQ 2506 1872 2764 1633 \nQ 3022 1394 3022 966 \nQ 3022 478 2636 193 \nQ 2250 -91 1575 -91 \nQ 1294 -91 989 -36 \nQ 684 19 347 128 \nL 347 722 \nQ 666 556 975 473 \nQ 1284 391 1588 391 \nQ 1994 391 2212 530 \nQ 2431 669 2431 922 \nQ 2431 1156 2273 1281 \nQ 2116 1406 1581 1522 \nL 1381 1569 \nQ 847 1681 609 1914 \nQ 372 2147 372 2553 \nQ 372 3047 722 3315 \nQ 1072 3584 1716 3584 \nQ 2034 3584 2315 3537 \nQ 2597 3491 2834 3397 \nz\n\" transform=\"scale(0.015625)\"/>\n      </defs>\n      <use xlink:href=\"#DejaVuSans-74\"/>\n      <use xlink:href=\"#DejaVuSans-72\" x=\"39.208984\"/>\n      <use xlink:href=\"#DejaVuSans-61\" x=\"80.322266\"/>\n      <use xlink:href=\"#DejaVuSans-69\" x=\"141.601562\"/>\n      <use xlink:href=\"#DejaVuSans-6e\" x=\"169.384766\"/>\n      <use xlink:href=\"#DejaVuSans-20\" x=\"232.763672\"/>\n      <use xlink:href=\"#DejaVuSans-6c\" x=\"264.550781\"/>\n      <use xlink:href=\"#DejaVuSans-6f\" x=\"292.333984\"/>\n      <use xlink:href=\"#DejaVuSans-73\" x=\"353.515625\"/>\n      <use xlink:href=\"#DejaVuSans-73\" x=\"405.615234\"/>\n     </g>\n    </g>\n    <g id=\"line2d_23\">\n     <path d=\"M 142.634375 34.976563 \nL 152.634375 34.976563 \nL 162.634375 34.976563 \n\" style=\"fill: none; stroke-dasharray: 5.55,2.4; stroke-dashoffset: 0; stroke: #bf00bf; stroke-width: 1.5\"/>\n    </g>\n    <g id=\"text_12\">\n     <!-- train acc -->\n     <g transform=\"translate(170.634375 38.476563)scale(0.1 -0.1)\">\n      <use xlink:href=\"#DejaVuSans-74\"/>\n      <use xlink:href=\"#DejaVuSans-72\" x=\"39.208984\"/>\n      <use xlink:href=\"#DejaVuSans-61\" x=\"80.322266\"/>\n      <use xlink:href=\"#DejaVuSans-69\" x=\"141.601562\"/>\n      <use xlink:href=\"#DejaVuSans-6e\" x=\"169.384766\"/>\n      <use xlink:href=\"#DejaVuSans-20\" x=\"232.763672\"/>\n      <use xlink:href=\"#DejaVuSans-61\" x=\"264.550781\"/>\n      <use xlink:href=\"#DejaVuSans-63\" x=\"325.830078\"/>\n      <use xlink:href=\"#DejaVuSans-63\" x=\"380.810547\"/>\n     </g>\n    </g>\n    <g id=\"line2d_24\">\n     <path d=\"M 142.634375 49.654688 \nL 152.634375 49.654688 \nL 162.634375 49.654688 \n\" style=\"fill: none; stroke-dasharray: 9.6,2.4,1.5,2.4; stroke-dashoffset: 0; stroke: #008000; stroke-width: 1.5\"/>\n    </g>\n    <g id=\"text_13\">\n     <!-- valid acc -->\n     <g transform=\"translate(170.634375 53.154688)scale(0.1 -0.1)\">\n      <defs>\n       <path id=\"DejaVuSans-76\" d=\"M 191 3500 \nL 800 3500 \nL 1894 563 \nL 2988 3500 \nL 3597 3500 \nL 2284 0 \nL 1503 0 \nL 191 3500 \nz\n\" transform=\"scale(0.015625)\"/>\n       <path id=\"DejaVuSans-64\" d=\"M 2906 2969 \nL 2906 4863 \nL 3481 4863 \nL 3481 0 \nL 2906 0 \nL 2906 525 \nQ 2725 213 2448 61 \nQ 2172 -91 1784 -91 \nQ 1150 -91 751 415 \nQ 353 922 353 1747 \nQ 353 2572 751 3078 \nQ 1150 3584 1784 3584 \nQ 2172 3584 2448 3432 \nQ 2725 3281 2906 2969 \nz\nM 947 1747 \nQ 947 1113 1208 752 \nQ 1469 391 1925 391 \nQ 2381 391 2643 752 \nQ 2906 1113 2906 1747 \nQ 2906 2381 2643 2742 \nQ 2381 3103 1925 3103 \nQ 1469 3103 1208 2742 \nQ 947 2381 947 1747 \nz\n\" transform=\"scale(0.015625)\"/>\n      </defs>\n      <use xlink:href=\"#DejaVuSans-76\"/>\n      <use xlink:href=\"#DejaVuSans-61\" x=\"59.179688\"/>\n      <use xlink:href=\"#DejaVuSans-6c\" x=\"120.458984\"/>\n      <use xlink:href=\"#DejaVuSans-69\" x=\"148.242188\"/>\n      <use xlink:href=\"#DejaVuSans-64\" x=\"176.025391\"/>\n      <use xlink:href=\"#DejaVuSans-20\" x=\"239.501953\"/>\n      <use xlink:href=\"#DejaVuSans-61\" x=\"271.289062\"/>\n      <use xlink:href=\"#DejaVuSans-63\" x=\"332.568359\"/>\n      <use xlink:href=\"#DejaVuSans-63\" x=\"387.548828\"/>\n     </g>\n    </g>\n   </g>\n  </g>\n </g>\n <defs>\n  <clipPath id=\"p58da8ce79d\">\n   <rect x=\"30.103125\" y=\"7.2\" width=\"195.3\" height=\"138.6\"/>\n  </clipPath>\n </defs>\n</svg>\n"
     },
     "metadata": {},
     "output_type": "display_data"
    }
   ],
   "source": [
    "devices, num_epochs, lr, wd = d2l.try_all_gpus(), 20, 2e-4, 5e-4\n",
    "lr_period, lr_decay, net = 4, 0.9, get_net()  # 每隔4个epoch，学习率降低为原来的90%\n",
    "train(net, train_iter, valid_iter, num_epochs, lr, wd, devices, lr_period,\n",
    "      lr_decay)"
   ],
   "metadata": {
    "collapsed": false,
    "pycharm": {
     "name": "#%%\n"
    }
   }
  },
  {
   "cell_type": "code",
   "execution_count": 15,
   "outputs": [
    {
     "name": "stdout",
     "output_type": "stream",
     "text": [
      "train loss 1.012, train acc 0.643\n",
      "558.0 examples/sec on [device(type='cuda', index=0), device(type='cuda', index=1), device(type='cuda', index=2), device(type='cuda', index=3), device(type='cuda', index=4), device(type='cuda', index=5), device(type='cuda', index=6), device(type='cuda', index=7)]\n"
     ]
    },
    {
     "data": {
      "text/plain": "<Figure size 350x250 with 1 Axes>",
      "image/svg+xml": "<?xml version=\"1.0\" encoding=\"utf-8\" standalone=\"no\"?>\n<!DOCTYPE svg PUBLIC \"-//W3C//DTD SVG 1.1//EN\"\n  \"http://www.w3.org/Graphics/SVG/1.1/DTD/svg11.dtd\">\n<svg xmlns:xlink=\"http://www.w3.org/1999/xlink\" width=\"238.965625pt\" height=\"183.35625pt\" viewBox=\"0 0 238.965625 183.35625\" xmlns=\"http://www.w3.org/2000/svg\" version=\"1.1\">\n <metadata>\n  <rdf:RDF xmlns:dc=\"http://purl.org/dc/elements/1.1/\" xmlns:cc=\"http://creativecommons.org/ns#\" xmlns:rdf=\"http://www.w3.org/1999/02/22-rdf-syntax-ns#\">\n   <cc:Work>\n    <dc:type rdf:resource=\"http://purl.org/dc/dcmitype/StillImage\"/>\n    <dc:date>2023-12-14T23:47:59.692386</dc:date>\n    <dc:format>image/svg+xml</dc:format>\n    <dc:creator>\n     <cc:Agent>\n      <dc:title>Matplotlib v3.5.1, https://matplotlib.org/</dc:title>\n     </cc:Agent>\n    </dc:creator>\n   </cc:Work>\n  </rdf:RDF>\n </metadata>\n <defs>\n  <style type=\"text/css\">*{stroke-linejoin: round; stroke-linecap: butt}</style>\n </defs>\n <g id=\"figure_1\">\n  <g id=\"patch_1\">\n   <path d=\"M 0 183.35625 \nL 238.965625 183.35625 \nL 238.965625 0 \nL 0 0 \nz\n\" style=\"fill: #ffffff\"/>\n  </g>\n  <g id=\"axes_1\">\n   <g id=\"patch_2\">\n    <path d=\"M 30.103125 145.8 \nL 225.403125 145.8 \nL 225.403125 7.2 \nL 30.103125 7.2 \nz\n\" style=\"fill: #ffffff\"/>\n   </g>\n   <g id=\"matplotlib.axis_1\">\n    <g id=\"xtick_1\">\n     <g id=\"line2d_1\">\n      <path d=\"M 71.218914 145.8 \nL 71.218914 7.2 \n\" clip-path=\"url(#p6595b51970)\" style=\"fill: none; stroke: #b0b0b0; stroke-width: 0.8; stroke-linecap: square\"/>\n     </g>\n     <g id=\"line2d_2\">\n      <defs>\n       <path id=\"m8a759215b9\" d=\"M 0 0 \nL 0 3.5 \n\" style=\"stroke: #000000; stroke-width: 0.8\"/>\n      </defs>\n      <g>\n       <use xlink:href=\"#m8a759215b9\" x=\"71.218914\" y=\"145.8\" style=\"stroke: #000000; stroke-width: 0.8\"/>\n      </g>\n     </g>\n     <g id=\"text_1\">\n      <!-- 5 -->\n      <g transform=\"translate(68.037664 160.398438)scale(0.1 -0.1)\">\n       <defs>\n        <path id=\"DejaVuSans-35\" d=\"M 691 4666 \nL 3169 4666 \nL 3169 4134 \nL 1269 4134 \nL 1269 2991 \nQ 1406 3038 1543 3061 \nQ 1681 3084 1819 3084 \nQ 2600 3084 3056 2656 \nQ 3513 2228 3513 1497 \nQ 3513 744 3044 326 \nQ 2575 -91 1722 -91 \nQ 1428 -91 1123 -41 \nQ 819 9 494 109 \nL 494 744 \nQ 775 591 1075 516 \nQ 1375 441 1709 441 \nQ 2250 441 2565 725 \nQ 2881 1009 2881 1497 \nQ 2881 1984 2565 2268 \nQ 2250 2553 1709 2553 \nQ 1456 2553 1204 2497 \nQ 953 2441 691 2322 \nL 691 4666 \nz\n\" transform=\"scale(0.015625)\"/>\n       </defs>\n       <use xlink:href=\"#DejaVuSans-35\"/>\n      </g>\n     </g>\n    </g>\n    <g id=\"xtick_2\">\n     <g id=\"line2d_3\">\n      <path d=\"M 122.613651 145.8 \nL 122.613651 7.2 \n\" clip-path=\"url(#p6595b51970)\" style=\"fill: none; stroke: #b0b0b0; stroke-width: 0.8; stroke-linecap: square\"/>\n     </g>\n     <g id=\"line2d_4\">\n      <g>\n       <use xlink:href=\"#m8a759215b9\" x=\"122.613651\" y=\"145.8\" style=\"stroke: #000000; stroke-width: 0.8\"/>\n      </g>\n     </g>\n     <g id=\"text_2\">\n      <!-- 10 -->\n      <g transform=\"translate(116.251151 160.398438)scale(0.1 -0.1)\">\n       <defs>\n        <path id=\"DejaVuSans-31\" d=\"M 794 531 \nL 1825 531 \nL 1825 4091 \nL 703 3866 \nL 703 4441 \nL 1819 4666 \nL 2450 4666 \nL 2450 531 \nL 3481 531 \nL 3481 0 \nL 794 0 \nL 794 531 \nz\n\" transform=\"scale(0.015625)\"/>\n        <path id=\"DejaVuSans-30\" d=\"M 2034 4250 \nQ 1547 4250 1301 3770 \nQ 1056 3291 1056 2328 \nQ 1056 1369 1301 889 \nQ 1547 409 2034 409 \nQ 2525 409 2770 889 \nQ 3016 1369 3016 2328 \nQ 3016 3291 2770 3770 \nQ 2525 4250 2034 4250 \nz\nM 2034 4750 \nQ 2819 4750 3233 4129 \nQ 3647 3509 3647 2328 \nQ 3647 1150 3233 529 \nQ 2819 -91 2034 -91 \nQ 1250 -91 836 529 \nQ 422 1150 422 2328 \nQ 422 3509 836 4129 \nQ 1250 4750 2034 4750 \nz\n\" transform=\"scale(0.015625)\"/>\n       </defs>\n       <use xlink:href=\"#DejaVuSans-31\"/>\n       <use xlink:href=\"#DejaVuSans-30\" x=\"63.623047\"/>\n      </g>\n     </g>\n    </g>\n    <g id=\"xtick_3\">\n     <g id=\"line2d_5\">\n      <path d=\"M 174.008388 145.8 \nL 174.008388 7.2 \n\" clip-path=\"url(#p6595b51970)\" style=\"fill: none; stroke: #b0b0b0; stroke-width: 0.8; stroke-linecap: square\"/>\n     </g>\n     <g id=\"line2d_6\">\n      <g>\n       <use xlink:href=\"#m8a759215b9\" x=\"174.008388\" y=\"145.8\" style=\"stroke: #000000; stroke-width: 0.8\"/>\n      </g>\n     </g>\n     <g id=\"text_3\">\n      <!-- 15 -->\n      <g transform=\"translate(167.645888 160.398438)scale(0.1 -0.1)\">\n       <use xlink:href=\"#DejaVuSans-31\"/>\n       <use xlink:href=\"#DejaVuSans-35\" x=\"63.623047\"/>\n      </g>\n     </g>\n    </g>\n    <g id=\"xtick_4\">\n     <g id=\"line2d_7\">\n      <path d=\"M 225.403125 145.8 \nL 225.403125 7.2 \n\" clip-path=\"url(#p6595b51970)\" style=\"fill: none; stroke: #b0b0b0; stroke-width: 0.8; stroke-linecap: square\"/>\n     </g>\n     <g id=\"line2d_8\">\n      <g>\n       <use xlink:href=\"#m8a759215b9\" x=\"225.403125\" y=\"145.8\" style=\"stroke: #000000; stroke-width: 0.8\"/>\n      </g>\n     </g>\n     <g id=\"text_4\">\n      <!-- 20 -->\n      <g transform=\"translate(219.040625 160.398438)scale(0.1 -0.1)\">\n       <defs>\n        <path id=\"DejaVuSans-32\" d=\"M 1228 531 \nL 3431 531 \nL 3431 0 \nL 469 0 \nL 469 531 \nQ 828 903 1448 1529 \nQ 2069 2156 2228 2338 \nQ 2531 2678 2651 2914 \nQ 2772 3150 2772 3378 \nQ 2772 3750 2511 3984 \nQ 2250 4219 1831 4219 \nQ 1534 4219 1204 4116 \nQ 875 4013 500 3803 \nL 500 4441 \nQ 881 4594 1212 4672 \nQ 1544 4750 1819 4750 \nQ 2544 4750 2975 4387 \nQ 3406 4025 3406 3419 \nQ 3406 3131 3298 2873 \nQ 3191 2616 2906 2266 \nQ 2828 2175 2409 1742 \nQ 1991 1309 1228 531 \nz\n\" transform=\"scale(0.015625)\"/>\n       </defs>\n       <use xlink:href=\"#DejaVuSans-32\"/>\n       <use xlink:href=\"#DejaVuSans-30\" x=\"63.623047\"/>\n      </g>\n     </g>\n    </g>\n    <g id=\"text_5\">\n     <!-- epoch -->\n     <g transform=\"translate(112.525 174.076563)scale(0.1 -0.1)\">\n      <defs>\n       <path id=\"DejaVuSans-65\" d=\"M 3597 1894 \nL 3597 1613 \nL 953 1613 \nQ 991 1019 1311 708 \nQ 1631 397 2203 397 \nQ 2534 397 2845 478 \nQ 3156 559 3463 722 \nL 3463 178 \nQ 3153 47 2828 -22 \nQ 2503 -91 2169 -91 \nQ 1331 -91 842 396 \nQ 353 884 353 1716 \nQ 353 2575 817 3079 \nQ 1281 3584 2069 3584 \nQ 2775 3584 3186 3129 \nQ 3597 2675 3597 1894 \nz\nM 3022 2063 \nQ 3016 2534 2758 2815 \nQ 2500 3097 2075 3097 \nQ 1594 3097 1305 2825 \nQ 1016 2553 972 2059 \nL 3022 2063 \nz\n\" transform=\"scale(0.015625)\"/>\n       <path id=\"DejaVuSans-70\" d=\"M 1159 525 \nL 1159 -1331 \nL 581 -1331 \nL 581 3500 \nL 1159 3500 \nL 1159 2969 \nQ 1341 3281 1617 3432 \nQ 1894 3584 2278 3584 \nQ 2916 3584 3314 3078 \nQ 3713 2572 3713 1747 \nQ 3713 922 3314 415 \nQ 2916 -91 2278 -91 \nQ 1894 -91 1617 61 \nQ 1341 213 1159 525 \nz\nM 3116 1747 \nQ 3116 2381 2855 2742 \nQ 2594 3103 2138 3103 \nQ 1681 3103 1420 2742 \nQ 1159 2381 1159 1747 \nQ 1159 1113 1420 752 \nQ 1681 391 2138 391 \nQ 2594 391 2855 752 \nQ 3116 1113 3116 1747 \nz\n\" transform=\"scale(0.015625)\"/>\n       <path id=\"DejaVuSans-6f\" d=\"M 1959 3097 \nQ 1497 3097 1228 2736 \nQ 959 2375 959 1747 \nQ 959 1119 1226 758 \nQ 1494 397 1959 397 \nQ 2419 397 2687 759 \nQ 2956 1122 2956 1747 \nQ 2956 2369 2687 2733 \nQ 2419 3097 1959 3097 \nz\nM 1959 3584 \nQ 2709 3584 3137 3096 \nQ 3566 2609 3566 1747 \nQ 3566 888 3137 398 \nQ 2709 -91 1959 -91 \nQ 1206 -91 779 398 \nQ 353 888 353 1747 \nQ 353 2609 779 3096 \nQ 1206 3584 1959 3584 \nz\n\" transform=\"scale(0.015625)\"/>\n       <path id=\"DejaVuSans-63\" d=\"M 3122 3366 \nL 3122 2828 \nQ 2878 2963 2633 3030 \nQ 2388 3097 2138 3097 \nQ 1578 3097 1268 2742 \nQ 959 2388 959 1747 \nQ 959 1106 1268 751 \nQ 1578 397 2138 397 \nQ 2388 397 2633 464 \nQ 2878 531 3122 666 \nL 3122 134 \nQ 2881 22 2623 -34 \nQ 2366 -91 2075 -91 \nQ 1284 -91 818 406 \nQ 353 903 353 1747 \nQ 353 2603 823 3093 \nQ 1294 3584 2113 3584 \nQ 2378 3584 2631 3529 \nQ 2884 3475 3122 3366 \nz\n\" transform=\"scale(0.015625)\"/>\n       <path id=\"DejaVuSans-68\" d=\"M 3513 2113 \nL 3513 0 \nL 2938 0 \nL 2938 2094 \nQ 2938 2591 2744 2837 \nQ 2550 3084 2163 3084 \nQ 1697 3084 1428 2787 \nQ 1159 2491 1159 1978 \nL 1159 0 \nL 581 0 \nL 581 4863 \nL 1159 4863 \nL 1159 2956 \nQ 1366 3272 1645 3428 \nQ 1925 3584 2291 3584 \nQ 2894 3584 3203 3211 \nQ 3513 2838 3513 2113 \nz\n\" transform=\"scale(0.015625)\"/>\n      </defs>\n      <use xlink:href=\"#DejaVuSans-65\"/>\n      <use xlink:href=\"#DejaVuSans-70\" x=\"61.523438\"/>\n      <use xlink:href=\"#DejaVuSans-6f\" x=\"125\"/>\n      <use xlink:href=\"#DejaVuSans-63\" x=\"186.181641\"/>\n      <use xlink:href=\"#DejaVuSans-68\" x=\"241.162109\"/>\n     </g>\n    </g>\n   </g>\n   <g id=\"matplotlib.axis_2\">\n    <g id=\"ytick_1\">\n     <g id=\"line2d_9\">\n      <path d=\"M 30.103125 145.052004 \nL 225.403125 145.052004 \n\" clip-path=\"url(#p6595b51970)\" style=\"fill: none; stroke: #b0b0b0; stroke-width: 0.8; stroke-linecap: square\"/>\n     </g>\n     <g id=\"line2d_10\">\n      <defs>\n       <path id=\"mfe029a75e8\" d=\"M 0 0 \nL -3.5 0 \n\" style=\"stroke: #000000; stroke-width: 0.8\"/>\n      </defs>\n      <g>\n       <use xlink:href=\"#mfe029a75e8\" x=\"30.103125\" y=\"145.052004\" style=\"stroke: #000000; stroke-width: 0.8\"/>\n      </g>\n     </g>\n     <g id=\"text_6\">\n      <!-- 0.0 -->\n      <g transform=\"translate(7.2 148.851223)scale(0.1 -0.1)\">\n       <defs>\n        <path id=\"DejaVuSans-2e\" d=\"M 684 794 \nL 1344 794 \nL 1344 0 \nL 684 0 \nL 684 794 \nz\n\" transform=\"scale(0.015625)\"/>\n       </defs>\n       <use xlink:href=\"#DejaVuSans-30\"/>\n       <use xlink:href=\"#DejaVuSans-2e\" x=\"63.623047\"/>\n       <use xlink:href=\"#DejaVuSans-30\" x=\"95.410156\"/>\n      </g>\n     </g>\n    </g>\n    <g id=\"ytick_2\">\n     <g id=\"line2d_11\">\n      <path d=\"M 30.103125 116.999774 \nL 225.403125 116.999774 \n\" clip-path=\"url(#p6595b51970)\" style=\"fill: none; stroke: #b0b0b0; stroke-width: 0.8; stroke-linecap: square\"/>\n     </g>\n     <g id=\"line2d_12\">\n      <g>\n       <use xlink:href=\"#mfe029a75e8\" x=\"30.103125\" y=\"116.999774\" style=\"stroke: #000000; stroke-width: 0.8\"/>\n      </g>\n     </g>\n     <g id=\"text_7\">\n      <!-- 0.5 -->\n      <g transform=\"translate(7.2 120.798993)scale(0.1 -0.1)\">\n       <use xlink:href=\"#DejaVuSans-30\"/>\n       <use xlink:href=\"#DejaVuSans-2e\" x=\"63.623047\"/>\n       <use xlink:href=\"#DejaVuSans-35\" x=\"95.410156\"/>\n      </g>\n     </g>\n    </g>\n    <g id=\"ytick_3\">\n     <g id=\"line2d_13\">\n      <path d=\"M 30.103125 88.947544 \nL 225.403125 88.947544 \n\" clip-path=\"url(#p6595b51970)\" style=\"fill: none; stroke: #b0b0b0; stroke-width: 0.8; stroke-linecap: square\"/>\n     </g>\n     <g id=\"line2d_14\">\n      <g>\n       <use xlink:href=\"#mfe029a75e8\" x=\"30.103125\" y=\"88.947544\" style=\"stroke: #000000; stroke-width: 0.8\"/>\n      </g>\n     </g>\n     <g id=\"text_8\">\n      <!-- 1.0 -->\n      <g transform=\"translate(7.2 92.746763)scale(0.1 -0.1)\">\n       <use xlink:href=\"#DejaVuSans-31\"/>\n       <use xlink:href=\"#DejaVuSans-2e\" x=\"63.623047\"/>\n       <use xlink:href=\"#DejaVuSans-30\" x=\"95.410156\"/>\n      </g>\n     </g>\n    </g>\n    <g id=\"ytick_4\">\n     <g id=\"line2d_15\">\n      <path d=\"M 30.103125 60.895315 \nL 225.403125 60.895315 \n\" clip-path=\"url(#p6595b51970)\" style=\"fill: none; stroke: #b0b0b0; stroke-width: 0.8; stroke-linecap: square\"/>\n     </g>\n     <g id=\"line2d_16\">\n      <g>\n       <use xlink:href=\"#mfe029a75e8\" x=\"30.103125\" y=\"60.895315\" style=\"stroke: #000000; stroke-width: 0.8\"/>\n      </g>\n     </g>\n     <g id=\"text_9\">\n      <!-- 1.5 -->\n      <g transform=\"translate(7.2 64.694534)scale(0.1 -0.1)\">\n       <use xlink:href=\"#DejaVuSans-31\"/>\n       <use xlink:href=\"#DejaVuSans-2e\" x=\"63.623047\"/>\n       <use xlink:href=\"#DejaVuSans-35\" x=\"95.410156\"/>\n      </g>\n     </g>\n    </g>\n    <g id=\"ytick_5\">\n     <g id=\"line2d_17\">\n      <path d=\"M 30.103125 32.843085 \nL 225.403125 32.843085 \n\" clip-path=\"url(#p6595b51970)\" style=\"fill: none; stroke: #b0b0b0; stroke-width: 0.8; stroke-linecap: square\"/>\n     </g>\n     <g id=\"line2d_18\">\n      <g>\n       <use xlink:href=\"#mfe029a75e8\" x=\"30.103125\" y=\"32.843085\" style=\"stroke: #000000; stroke-width: 0.8\"/>\n      </g>\n     </g>\n     <g id=\"text_10\">\n      <!-- 2.0 -->\n      <g transform=\"translate(7.2 36.642304)scale(0.1 -0.1)\">\n       <use xlink:href=\"#DejaVuSans-32\"/>\n       <use xlink:href=\"#DejaVuSans-2e\" x=\"63.623047\"/>\n       <use xlink:href=\"#DejaVuSans-30\" x=\"95.410156\"/>\n      </g>\n     </g>\n    </g>\n   </g>\n   <g id=\"line2d_19\">\n    <path d=\"M 21.813651 14.127756 \nL 23.803125 14.130805 \nL 25.792599 13.5 \nL 27.782072 14.926696 \nL 29.771546 16.037543 \nL 30.103125 16.37925 \nL 32.092599 31.17325 \nL 34.082072 23.447941 \nL 36.071546 22.756144 \nL 38.06102 25.431309 \nL 40.050493 26.170832 \nL 40.382072 25.496311 \nL 42.371546 29.194989 \nL 44.36102 32.350245 \nL 46.350493 30.149857 \nL 48.339967 31.558397 \nL 50.329441 32.292346 \nL 50.66102 32.468822 \nL 52.650493 34.322744 \nL 54.639967 36.510583 \nL 56.629441 37.422633 \nL 58.618914 36.697989 \nL 60.608388 36.127558 \nL 60.939967 35.620872 \nL 62.929441 37.866368 \nL 64.918914 39.822954 \nL 66.908388 43.401573 \nL 68.897862 43.698503 \nL 70.887336 44.693864 \nL 71.218914 44.848403 \nL 73.208388 46.724993 \nL 75.197862 44.636323 \nL 77.187336 46.11873 \nL 79.176809 45.587865 \nL 81.166283 46.559695 \nL 81.497862 46.763557 \nL 83.487336 48.944206 \nL 85.476809 46.97674 \nL 87.466283 48.396949 \nL 89.455757 48.183678 \nL 91.44523 48.389944 \nL 91.776809 48.524613 \nL 93.766283 56.410741 \nL 95.755757 56.284327 \nL 97.74523 54.444011 \nL 99.734704 53.227468 \nL 101.724178 53.769111 \nL 102.055757 53.652625 \nL 104.04523 61.504588 \nL 106.034704 63.844725 \nL 108.024178 61.612454 \nL 110.013651 61.179333 \nL 112.003125 59.878293 \nL 112.334704 60.085862 \nL 114.324178 61.904675 \nL 116.313651 62.403655 \nL 118.303125 61.99549 \nL 120.292599 63.664984 \nL 122.282072 62.08434 \nL 122.613651 62.315181 \nL 124.603125 62.037881 \nL 126.592599 64.308212 \nL 128.582072 62.392076 \nL 130.571546 61.189334 \nL 132.56102 60.654568 \nL 132.892599 60.176893 \nL 134.882072 66.286692 \nL 136.871546 66.1151 \nL 138.86102 66.236866 \nL 140.850493 65.095941 \nL 142.839967 64.456044 \nL 143.171546 64.586233 \nL 145.16102 67.141919 \nL 147.150493 65.1274 \nL 149.139967 67.869738 \nL 151.129441 67.160756 \nL 153.118914 68.699248 \nL 153.450493 69.303339 \nL 155.439967 71.948677 \nL 157.429441 71.396557 \nL 159.418914 73.214667 \nL 161.408388 72.560557 \nL 163.397862 70.916469 \nL 163.729441 70.702488 \nL 165.718914 76.292445 \nL 167.708388 76.002194 \nL 169.697862 76.41501 \nL 171.687336 74.30108 \nL 173.676809 73.140351 \nL 174.008388 72.524606 \nL 175.997862 71.666158 \nL 177.987336 73.565208 \nL 179.976809 74.89221 \nL 181.966283 75.24611 \nL 183.955757 75.645883 \nL 184.287336 75.193086 \nL 186.276809 83.256168 \nL 188.266283 81.536144 \nL 190.255757 79.091451 \nL 192.24523 79.298974 \nL 194.234704 79.820675 \nL 194.566283 79.904511 \nL 196.555757 86.151576 \nL 198.54523 83.61816 \nL 200.534704 83.829082 \nL 202.524178 83.720987 \nL 204.513651 83.264852 \nL 204.84523 83.093466 \nL 206.834704 87.252012 \nL 208.824178 84.904269 \nL 210.813651 89.227719 \nL 212.803125 89.302546 \nL 214.792599 88.15784 \nL 215.124178 88.216382 \nL 217.113651 92.199146 \nL 219.103125 89.227233 \nL 221.092599 88.633683 \nL 223.082072 89.548165 \nL 225.071546 88.293215 \nL 225.403125 88.248464 \n\" clip-path=\"url(#p6595b51970)\" style=\"fill: none; stroke: #1f77b4; stroke-width: 1.5; stroke-linecap: square\"/>\n   </g>\n   <g id=\"line2d_20\">\n    <path d=\"M 21.813651 139.5 \nL 23.803125 136.723998 \nL 25.792599 137.162314 \nL 27.782072 136.650945 \nL 29.771546 135.993471 \nL 30.103125 135.720113 \nL 32.092599 129.857046 \nL 34.082072 130.733678 \nL 36.071546 131.415503 \nL 38.06102 130.952836 \nL 40.050493 130.967447 \nL 40.382072 131.025889 \nL 42.371546 129.564835 \nL 44.36102 129.272625 \nL 46.350493 129.077817 \nL 48.339967 128.907361 \nL 50.329441 128.921972 \nL 50.66102 128.820169 \nL 52.650493 127.22715 \nL 54.639967 127.373255 \nL 56.629441 127.908975 \nL 58.618914 128.834309 \nL 60.608388 128.688203 \nL 60.939967 128.876726 \nL 62.929441 128.103782 \nL 64.918914 128.395992 \nL 66.908388 126.740132 \nL 68.897862 126.42357 \nL 70.887336 125.766096 \nL 71.218914 125.652982 \nL 73.208388 124.012832 \nL 75.197862 124.451148 \nL 77.187336 123.720621 \nL 79.176809 124.012832 \nL 81.166283 123.954389 \nL 81.497862 123.786604 \nL 83.487336 123.136199 \nL 85.476809 124.889464 \nL 87.466283 124.597253 \nL 89.455757 124.5242 \nL 91.44523 124.363484 \nL 91.776809 124.40873 \nL 93.766283 120.506303 \nL 95.755757 120.360197 \nL 97.74523 121.090724 \nL 99.734704 121.894304 \nL 101.724178 121.266051 \nL 102.055757 121.241543 \nL 104.04523 120.506303 \nL 106.034704 119.483565 \nL 108.024178 119.921881 \nL 110.013651 119.629671 \nL 112.003125 120.214092 \nL 112.334704 120.053848 \nL 114.324178 116.999774 \nL 116.313651 117.584196 \nL 118.303125 116.902371 \nL 120.292599 116.415353 \nL 122.282072 117.584196 \nL 122.613651 117.565343 \nL 124.603125 118.460828 \nL 126.592599 117.584196 \nL 128.582072 117.779003 \nL 130.571546 118.606933 \nL 132.56102 118.343943 \nL 132.892599 118.413697 \nL 134.882072 118.753038 \nL 136.871546 117.584196 \nL 138.86102 117.194581 \nL 140.850493 117.365038 \nL 142.839967 117.642638 \nL 143.171546 117.678457 \nL 145.16102 119.33746 \nL 147.150493 119.191355 \nL 149.139967 116.707563 \nL 151.129441 116.999774 \nL 153.118914 116.006258 \nL 153.450493 115.98175 \nL 155.439967 114.954299 \nL 157.429441 115.24651 \nL 159.418914 114.564685 \nL 161.408388 114.296825 \nL 163.397862 114.603646 \nL 163.729441 114.737498 \nL 165.718914 113.785456 \nL 167.708388 114.369878 \nL 169.697862 113.493245 \nL 171.687336 114.223772 \nL 173.676809 114.837415 \nL 174.008388 115.133396 \nL 175.997862 115.24651 \nL 177.987336 115.684826 \nL 179.976809 114.954299 \nL 181.966283 114.589036 \nL 183.955757 114.136109 \nL 184.287336 114.002258 \nL 186.276809 110.571138 \nL 188.266283 111.739981 \nL 190.255757 112.324403 \nL 192.24523 112.105244 \nL 194.234704 111.564655 \nL 194.566283 111.513753 \nL 196.555757 107.649031 \nL 198.54523 110.571138 \nL 200.534704 110.473735 \nL 202.524178 110.205875 \nL 204.513651 110.454254 \nL 204.84523 110.552286 \nL 206.834704 109.110085 \nL 208.824178 111.301665 \nL 210.813651 109.889313 \nL 212.803125 109.548401 \nL 214.792599 109.285411 \nL 215.124178 109.251477 \nL 217.113651 108.525663 \nL 219.103125 109.25619 \nL 221.092599 108.623067 \nL 223.082072 108.525663 \nL 225.071546 108.876316 \nL 225.403125 108.968692 \n\" clip-path=\"url(#p6595b51970)\" style=\"fill: none; stroke-dasharray: 5.55,2.4; stroke-dashoffset: 0; stroke: #bf00bf; stroke-width: 1.5\"/>\n   </g>\n   <g id=\"line2d_21\"/>\n   <g id=\"patch_3\">\n    <path d=\"M 30.103125 145.8 \nL 30.103125 7.2 \n\" style=\"fill: none; stroke: #000000; stroke-width: 0.8; stroke-linejoin: miter; stroke-linecap: square\"/>\n   </g>\n   <g id=\"patch_4\">\n    <path d=\"M 225.403125 145.8 \nL 225.403125 7.2 \n\" style=\"fill: none; stroke: #000000; stroke-width: 0.8; stroke-linejoin: miter; stroke-linecap: square\"/>\n   </g>\n   <g id=\"patch_5\">\n    <path d=\"M 30.103125 145.8 \nL 225.403125 145.8 \n\" style=\"fill: none; stroke: #000000; stroke-width: 0.8; stroke-linejoin: miter; stroke-linecap: square\"/>\n   </g>\n   <g id=\"patch_6\">\n    <path d=\"M 30.103125 7.2 \nL 225.403125 7.2 \n\" style=\"fill: none; stroke: #000000; stroke-width: 0.8; stroke-linejoin: miter; stroke-linecap: square\"/>\n   </g>\n   <g id=\"legend_1\">\n    <g id=\"patch_7\">\n     <path d=\"M 140.634375 44.55625 \nL 218.403125 44.55625 \nQ 220.403125 44.55625 220.403125 42.55625 \nL 220.403125 14.2 \nQ 220.403125 12.2 218.403125 12.2 \nL 140.634375 12.2 \nQ 138.634375 12.2 138.634375 14.2 \nL 138.634375 42.55625 \nQ 138.634375 44.55625 140.634375 44.55625 \nz\n\" style=\"fill: #ffffff; opacity: 0.8; stroke: #cccccc; stroke-linejoin: miter\"/>\n    </g>\n    <g id=\"line2d_22\">\n     <path d=\"M 142.634375 20.298438 \nL 152.634375 20.298438 \nL 162.634375 20.298438 \n\" style=\"fill: none; stroke: #1f77b4; stroke-width: 1.5; stroke-linecap: square\"/>\n    </g>\n    <g id=\"text_11\">\n     <!-- train loss -->\n     <g transform=\"translate(170.634375 23.798438)scale(0.1 -0.1)\">\n      <defs>\n       <path id=\"DejaVuSans-74\" d=\"M 1172 4494 \nL 1172 3500 \nL 2356 3500 \nL 2356 3053 \nL 1172 3053 \nL 1172 1153 \nQ 1172 725 1289 603 \nQ 1406 481 1766 481 \nL 2356 481 \nL 2356 0 \nL 1766 0 \nQ 1100 0 847 248 \nQ 594 497 594 1153 \nL 594 3053 \nL 172 3053 \nL 172 3500 \nL 594 3500 \nL 594 4494 \nL 1172 4494 \nz\n\" transform=\"scale(0.015625)\"/>\n       <path id=\"DejaVuSans-72\" d=\"M 2631 2963 \nQ 2534 3019 2420 3045 \nQ 2306 3072 2169 3072 \nQ 1681 3072 1420 2755 \nQ 1159 2438 1159 1844 \nL 1159 0 \nL 581 0 \nL 581 3500 \nL 1159 3500 \nL 1159 2956 \nQ 1341 3275 1631 3429 \nQ 1922 3584 2338 3584 \nQ 2397 3584 2469 3576 \nQ 2541 3569 2628 3553 \nL 2631 2963 \nz\n\" transform=\"scale(0.015625)\"/>\n       <path id=\"DejaVuSans-61\" d=\"M 2194 1759 \nQ 1497 1759 1228 1600 \nQ 959 1441 959 1056 \nQ 959 750 1161 570 \nQ 1363 391 1709 391 \nQ 2188 391 2477 730 \nQ 2766 1069 2766 1631 \nL 2766 1759 \nL 2194 1759 \nz\nM 3341 1997 \nL 3341 0 \nL 2766 0 \nL 2766 531 \nQ 2569 213 2275 61 \nQ 1981 -91 1556 -91 \nQ 1019 -91 701 211 \nQ 384 513 384 1019 \nQ 384 1609 779 1909 \nQ 1175 2209 1959 2209 \nL 2766 2209 \nL 2766 2266 \nQ 2766 2663 2505 2880 \nQ 2244 3097 1772 3097 \nQ 1472 3097 1187 3025 \nQ 903 2953 641 2809 \nL 641 3341 \nQ 956 3463 1253 3523 \nQ 1550 3584 1831 3584 \nQ 2591 3584 2966 3190 \nQ 3341 2797 3341 1997 \nz\n\" transform=\"scale(0.015625)\"/>\n       <path id=\"DejaVuSans-69\" d=\"M 603 3500 \nL 1178 3500 \nL 1178 0 \nL 603 0 \nL 603 3500 \nz\nM 603 4863 \nL 1178 4863 \nL 1178 4134 \nL 603 4134 \nL 603 4863 \nz\n\" transform=\"scale(0.015625)\"/>\n       <path id=\"DejaVuSans-6e\" d=\"M 3513 2113 \nL 3513 0 \nL 2938 0 \nL 2938 2094 \nQ 2938 2591 2744 2837 \nQ 2550 3084 2163 3084 \nQ 1697 3084 1428 2787 \nQ 1159 2491 1159 1978 \nL 1159 0 \nL 581 0 \nL 581 3500 \nL 1159 3500 \nL 1159 2956 \nQ 1366 3272 1645 3428 \nQ 1925 3584 2291 3584 \nQ 2894 3584 3203 3211 \nQ 3513 2838 3513 2113 \nz\n\" transform=\"scale(0.015625)\"/>\n       <path id=\"DejaVuSans-20\" transform=\"scale(0.015625)\"/>\n       <path id=\"DejaVuSans-6c\" d=\"M 603 4863 \nL 1178 4863 \nL 1178 0 \nL 603 0 \nL 603 4863 \nz\n\" transform=\"scale(0.015625)\"/>\n       <path id=\"DejaVuSans-73\" d=\"M 2834 3397 \nL 2834 2853 \nQ 2591 2978 2328 3040 \nQ 2066 3103 1784 3103 \nQ 1356 3103 1142 2972 \nQ 928 2841 928 2578 \nQ 928 2378 1081 2264 \nQ 1234 2150 1697 2047 \nL 1894 2003 \nQ 2506 1872 2764 1633 \nQ 3022 1394 3022 966 \nQ 3022 478 2636 193 \nQ 2250 -91 1575 -91 \nQ 1294 -91 989 -36 \nQ 684 19 347 128 \nL 347 722 \nQ 666 556 975 473 \nQ 1284 391 1588 391 \nQ 1994 391 2212 530 \nQ 2431 669 2431 922 \nQ 2431 1156 2273 1281 \nQ 2116 1406 1581 1522 \nL 1381 1569 \nQ 847 1681 609 1914 \nQ 372 2147 372 2553 \nQ 372 3047 722 3315 \nQ 1072 3584 1716 3584 \nQ 2034 3584 2315 3537 \nQ 2597 3491 2834 3397 \nz\n\" transform=\"scale(0.015625)\"/>\n      </defs>\n      <use xlink:href=\"#DejaVuSans-74\"/>\n      <use xlink:href=\"#DejaVuSans-72\" x=\"39.208984\"/>\n      <use xlink:href=\"#DejaVuSans-61\" x=\"80.322266\"/>\n      <use xlink:href=\"#DejaVuSans-69\" x=\"141.601562\"/>\n      <use xlink:href=\"#DejaVuSans-6e\" x=\"169.384766\"/>\n      <use xlink:href=\"#DejaVuSans-20\" x=\"232.763672\"/>\n      <use xlink:href=\"#DejaVuSans-6c\" x=\"264.550781\"/>\n      <use xlink:href=\"#DejaVuSans-6f\" x=\"292.333984\"/>\n      <use xlink:href=\"#DejaVuSans-73\" x=\"353.515625\"/>\n      <use xlink:href=\"#DejaVuSans-73\" x=\"405.615234\"/>\n     </g>\n    </g>\n    <g id=\"line2d_23\">\n     <path d=\"M 142.634375 34.976562 \nL 152.634375 34.976562 \nL 162.634375 34.976562 \n\" style=\"fill: none; stroke-dasharray: 5.55,2.4; stroke-dashoffset: 0; stroke: #bf00bf; stroke-width: 1.5\"/>\n    </g>\n    <g id=\"text_12\">\n     <!-- train acc -->\n     <g transform=\"translate(170.634375 38.476562)scale(0.1 -0.1)\">\n      <use xlink:href=\"#DejaVuSans-74\"/>\n      <use xlink:href=\"#DejaVuSans-72\" x=\"39.208984\"/>\n      <use xlink:href=\"#DejaVuSans-61\" x=\"80.322266\"/>\n      <use xlink:href=\"#DejaVuSans-69\" x=\"141.601562\"/>\n      <use xlink:href=\"#DejaVuSans-6e\" x=\"169.384766\"/>\n      <use xlink:href=\"#DejaVuSans-20\" x=\"232.763672\"/>\n      <use xlink:href=\"#DejaVuSans-61\" x=\"264.550781\"/>\n      <use xlink:href=\"#DejaVuSans-63\" x=\"325.830078\"/>\n      <use xlink:href=\"#DejaVuSans-63\" x=\"380.810547\"/>\n     </g>\n    </g>\n   </g>\n  </g>\n </g>\n <defs>\n  <clipPath id=\"p6595b51970\">\n   <rect x=\"30.103125\" y=\"7.2\" width=\"195.3\" height=\"138.6\"/>\n  </clipPath>\n </defs>\n</svg>\n"
     },
     "metadata": {},
     "output_type": "display_data"
    }
   ],
   "source": [
    "# 确定好超参数后，再在整个训练集上训练一遍\n",
    "net, preds = get_net(), []\n",
    "train(net, train_valid_iter, None, num_epochs, lr, wd, devices, lr_period,\n",
    "      lr_decay)\n",
    "\n",
    "for X, _ in test_iter:\n",
    "    y_hat = net(X.to(devices[0]))\n",
    "    preds.extend(y_hat.argmax(dim=1).type(torch.int32).cpu().numpy())\n",
    "sorted_ids = list(range(1, len(test_ds) + 1))\n",
    "sorted_ids.sort(key=lambda x: str(x))\n",
    "df = pd.DataFrame({'id': sorted_ids, 'label': preds})\n",
    "df['label'] = df['label'].apply(lambda x: train_valid_ds.classes[x])\n",
    "df.to_csv('submission.csv', index=False)"
   ],
   "metadata": {
    "collapsed": false,
    "pycharm": {
     "name": "#%%\n"
    }
   }
  },
  {
   "cell_type": "code",
   "execution_count": 16,
   "outputs": [],
   "source": [],
   "metadata": {
    "collapsed": false,
    "pycharm": {
     "name": "#%%\n"
    }
   }
  }
 ],
 "metadata": {
  "kernelspec": {
   "display_name": "Python 3",
   "language": "python",
   "name": "python3"
  },
  "language_info": {
   "codemirror_mode": {
    "name": "ipython",
    "version": 2
   },
   "file_extension": ".py",
   "mimetype": "text/x-python",
   "name": "python",
   "nbconvert_exporter": "python",
   "pygments_lexer": "ipython2",
   "version": "2.7.6"
  }
 },
 "nbformat": 4,
 "nbformat_minor": 0
}