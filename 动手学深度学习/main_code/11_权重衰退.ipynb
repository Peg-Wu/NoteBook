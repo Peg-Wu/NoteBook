{
 "cells": [
  {
   "cell_type": "code",
   "execution_count": 2,
   "outputs": [],
   "source": [
    "import torch\n",
    "from torch import nn"
   ],
   "metadata": {
    "collapsed": false,
    "pycharm": {
     "name": "#%%\n"
    }
   }
  },
  {
   "cell_type": "code",
   "execution_count": 4,
   "outputs": [
    {
     "data": {
      "text/plain": "Sequential(\n  (0): Linear(in_features=784, out_features=16, bias=True)\n  (1): ReLU()\n  (2): Linear(in_features=16, out_features=10, bias=True)\n)"
     },
     "execution_count": 4,
     "metadata": {},
     "output_type": "execute_result"
    }
   ],
   "source": [
    "model = nn.Sequential(nn.Linear(784, 16),\n",
    "                      nn.ReLU(),\n",
    "                      nn.Linear(16, 10))\n",
    "\n",
    "# 练习一下权重初始化\n",
    "def init_weights(layer):\n",
    "    if type(layer) == nn.Linear:\n",
    "        # 权重初始化，采取其中一种方式\n",
    "        nn.init.normal_(layer.weight.data, 0, 0.01)\n",
    "        # 偏置初始化，采用另一种方式\n",
    "        layer.bias.data.fill_(0.0)\n",
    "\n",
    "model.apply(init_weights)"
   ],
   "metadata": {
    "collapsed": false,
    "pycharm": {
     "name": "#%%\n"
    }
   }
  },
  {
   "cell_type": "code",
   "execution_count": null,
   "outputs": [],
   "source": [
    "# 直接在优化器里面添加权重衰退即可，相当于在Loss中添加L2正则项\n",
    "# 一般情况下会取1e-2,1e-3,1e-4，不会>1，或者默认开个1e-2就行了\n",
    "torch.optim.SGD(model.parameters(), lr=0.01, weight_decay=1e-3)"
   ],
   "metadata": {
    "collapsed": false,
    "pycharm": {
     "name": "#%%\n"
    }
   }
  }
 ],
 "metadata": {
  "kernelspec": {
   "display_name": "Python 3",
   "language": "python",
   "name": "python3"
  },
  "language_info": {
   "codemirror_mode": {
    "name": "ipython",
    "version": 2
   },
   "file_extension": ".py",
   "mimetype": "text/x-python",
   "name": "python",
   "nbconvert_exporter": "python",
   "pygments_lexer": "ipython2",
   "version": "2.7.6"
  }
 },
 "nbformat": 4,
 "nbformat_minor": 0
}